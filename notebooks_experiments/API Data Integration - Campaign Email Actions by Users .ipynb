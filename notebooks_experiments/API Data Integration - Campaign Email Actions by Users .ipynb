{
 "cells": [
  {
   "cell_type": "markdown",
   "metadata": {},
   "source": [
    "### Import Libraries and Initialisation"
   ]
  },
  {
   "cell_type": "code",
   "execution_count": 1,
   "metadata": {},
   "outputs": [
    {
     "name": "stdout",
     "output_type": "stream",
     "text": [
      "Auth header: Basic Znovb2NEWm45ckhtOVpBdXBHc0ROam9CWkdTbkhPKzh2bVUveFdpUFB2dkZ6UEUwU1RKblRibnZ1Ni9GdnlPcFVocC9UQnUwdHhaNHhaWXo2SjhpeXhrVURrQm93VlRpRGZsQXZIMHFkaTVOeldTVytpcThMN2o3Ny9RZzc3LzZXa2oxSnZ4R2tCVE90Rk9wVjlzYUd3PT06\n"
     ]
    }
   ],
   "source": [
    "import requests\n",
    "from base64 import b64encode\n",
    "import json\n",
    "import pandas as pd\n",
    "from datetime import datetime, date, timedelta\n",
    "\n",
    "import sys\n",
    "import yaml as yml\n",
    "import pyodbc as cnn\n",
    "\n",
    "import re\n",
    "from dateutil.relativedelta import relativedelta\n",
    "from tqdm import tqdm, trange\n",
    "   \n",
    "apikey = \"fz/ocDZn9rHm9ZAupGsDNjoBZGSnHO+8vmU/xWiPPvvFzPE0STJnTbnvu6/FvyOpUhp/TBu0txZ4xZYz6J8iyxkUDkBowVTiDflAvH0qdi5NzWSW+iq8L7j77/Qg77/6Wkj1JvxGkBTOtFOpV9saGw==\"\n",
    "clientId = \"33604187fc197c87eb8d2f553935ef8e\"\n",
    "\n",
    "page = 1\n",
    "pagesize = 1000\n",
    "\n",
    "# Encode the credentials with base64\n",
    "username = apikey\n",
    "password = ''\n",
    "encoded_credentials = b64encode(bytes(f'{username}:{password}',encoding='ascii')).decode('ascii')\n",
    "\n",
    "# Use Basic Authorization\n",
    "auth_header = f'Basic {encoded_credentials}'\n",
    "print(f'Auth header: {auth_header}')\n",
    "\n",
    "# Open the config file\n",
    "with open(r'../dbconfig.yaml') as file:\n",
    "    config = yml.full_load(file)"
   ]
  },
  {
   "cell_type": "markdown",
   "metadata": {},
   "source": [
    "### Common Functions\n"
   ]
  },
  {
   "cell_type": "markdown",
   "metadata": {},
   "source": [
    "### Establish Database Connection"
   ]
  },
  {
   "cell_type": "code",
   "execution_count": 3,
   "metadata": {},
   "outputs": [],
   "source": [
    "# Establish the connection with database server\n",
    "conn = cnn.connect('DRIVER='+config['instances']['driver']+\n",
    "                   ';SERVER='+config['instances']['servername']+\n",
    "                   ';DATABASE='+config['instances']['database']+\n",
    "                   ';UID='+config['instances']['username']+\n",
    "                   ';PWD='+config['instances']['password'])\n",
    "\n",
    "conn.autocommit = False\n",
    "\n",
    "#check loading configuration\n",
    "#METHOD: full/incremental\n",
    "cfg_load_method = config['loading']['method']"
   ]
  },
  {
   "cell_type": "markdown",
   "metadata": {},
   "source": [
    "###  Initial Objects Declaration"
   ]
  },
  {
   "cell_type": "code",
   "execution_count": 5,
   "metadata": {},
   "outputs": [
    {
     "ename": "KeyError",
     "evalue": "'campaign'",
     "output_type": "error",
     "traceback": [
      "\u001b[1;31m---------------------------------------------------------------------------\u001b[0m",
      "\u001b[1;31mKeyError\u001b[0m                                  Traceback (most recent call last)",
      "\u001b[1;32m<ipython-input-5-88fa94a68b4a>\u001b[0m in \u001b[0;36m<module>\u001b[1;34m\u001b[0m\n\u001b[0;32m      2\u001b[0m \u001b[1;31m#campaign_email_action_list = [\"opens\"]\u001b[0m\u001b[1;33m\u001b[0m\u001b[1;33m\u001b[0m\u001b[1;33m\u001b[0m\u001b[0m\n\u001b[0;32m      3\u001b[0m \u001b[1;33m\u001b[0m\u001b[0m\n\u001b[1;32m----> 4\u001b[1;33m \u001b[0mn_past_days\u001b[0m \u001b[1;33m=\u001b[0m \u001b[0mconfig\u001b[0m\u001b[1;33m[\u001b[0m\u001b[1;34m'campaign'\u001b[0m\u001b[1;33m]\u001b[0m\u001b[1;33m[\u001b[0m\u001b[1;34m'campaign_active_period_length'\u001b[0m\u001b[1;33m]\u001b[0m\u001b[1;33m\u001b[0m\u001b[1;33m\u001b[0m\u001b[0m\n\u001b[0m\u001b[0;32m      5\u001b[0m \u001b[0mparams\u001b[0m \u001b[1;33m=\u001b[0m \u001b[1;33m{\u001b[0m\u001b[1;34m\"page\"\u001b[0m\u001b[1;33m:\u001b[0m \u001b[0mpage\u001b[0m\u001b[1;33m,\u001b[0m \u001b[1;34m\"pagesize\"\u001b[0m\u001b[1;33m:\u001b[0m \u001b[0mpagesize\u001b[0m\u001b[1;33m,\u001b[0m \u001b[1;34m\"orderfield\"\u001b[0m\u001b[1;33m:\u001b[0m \u001b[1;34m\"email\"\u001b[0m\u001b[1;33m,\u001b[0m \u001b[1;34m\"orderdirection\"\u001b[0m\u001b[1;33m:\u001b[0m \u001b[1;34m\"asc\"\u001b[0m \u001b[1;33m}\u001b[0m\u001b[1;33m\u001b[0m\u001b[1;33m\u001b[0m\u001b[0m\n\u001b[0;32m      6\u001b[0m \u001b[0mdesired_columns\u001b[0m \u001b[1;33m=\u001b[0m \u001b[1;33m[\u001b[0m\u001b[1;34m\"campaignId\"\u001b[0m\u001b[1;33m,\u001b[0m \u001b[1;34m\"EmailAddress\"\u001b[0m\u001b[1;33m,\u001b[0m \u001b[1;34m\"Date\"\u001b[0m\u001b[1;33m]\u001b[0m\u001b[1;33m\u001b[0m\u001b[1;33m\u001b[0m\u001b[0m\n",
      "\u001b[1;31mKeyError\u001b[0m: 'campaign'"
     ]
    }
   ],
   "source": [
    "campaign_email_action_list = [\"opens\", \"clicks\", \"unsubscribes\", \"bounces\", \"spam\"]\n",
    "\n",
    "n_past_days = config['campaign']['campaign_active_period_length']\n",
    "params = {\"page\": page, \"pagesize\": pagesize, \"orderfield\": \"email\", \"orderdirection\": \"asc\" }\n",
    "desired_columns = [\"campaignId\", \"EmailAddress\", \"Date\"]\n",
    "\n",
    "final_campaign_action_data = {\"opens\": {\"data\": pd.DataFrame(), \"destination_table_name\": \"campaign_email_opens\"},\n",
    "                              \"clicks\":{\"data\": pd.DataFrame(), \"destination_table_name\": \"campaign_email_clicks\"},\n",
    "                              \"unsubscribes\": {\"data\": pd.DataFrame(), \"destination_table_name\": \"campaign_email_unsubscribes\"},\n",
    "                              \"bounces\": {\"data\": pd.DataFrame(), \"destination_table_name\": \"campaign_email_bounces\"},\n",
    "                              \"spam\": {\"data\": pd.DataFrame(), \"destination_table_name\": \"campaign_email_spam\"} }\n",
    "\n",
    "#initiate\n",
    "start_proc_time = datetime.now()\n",
    "\n",
    "#START_DATE_FULL_LOAD: starting date of data to be loaded (if method is full-load)\n",
    "cfg_start_date = config['loading']['start_date_full_load']\n",
    "\n",
    "#DAY_UPDATE_LAG: number of days of data lag\n",
    "cfg_update_lag = config['loading']['day_update_lag']\n",
    "\n",
    "\n",
    "#calculate end date\n",
    "cfg_end_date = datetime.now() - relativedelta(days = cfg_update_lag)\n",
    "\n",
    "# \n",
    "end_proc_time = datetime.now()\n",
    "\n",
    "cfg_loading_method = config['loading']['method']"
   ]
  },
  {
   "cell_type": "code",
   "execution_count": 4,
   "metadata": {},
   "outputs": [
    {
     "data": {
      "text/html": [
       "<div>\n",
       "<style scoped>\n",
       "    .dataframe tbody tr th:only-of-type {\n",
       "        vertical-align: middle;\n",
       "    }\n",
       "\n",
       "    .dataframe tbody tr th {\n",
       "        vertical-align: top;\n",
       "    }\n",
       "\n",
       "    .dataframe thead th {\n",
       "        text-align: right;\n",
       "    }\n",
       "</style>\n",
       "<table border=\"1\" class=\"dataframe\">\n",
       "  <thead>\n",
       "    <tr style=\"text-align: right;\">\n",
       "      <th></th>\n",
       "      <th>EmailAddress</th>\n",
       "      <th>Name</th>\n",
       "      <th>Status</th>\n",
       "    </tr>\n",
       "  </thead>\n",
       "  <tbody>\n",
       "    <tr>\n",
       "      <th>0</th>\n",
       "      <td>Hnin.Tin@nswcc.org.au</td>\n",
       "      <td>Hnin</td>\n",
       "      <td>Active</td>\n",
       "    </tr>\n",
       "    <tr>\n",
       "      <th>1</th>\n",
       "      <td>deepuinuk@gmail.com</td>\n",
       "      <td>Sree</td>\n",
       "      <td>Active</td>\n",
       "    </tr>\n",
       "  </tbody>\n",
       "</table>\n",
       "</div>"
      ],
      "text/plain": [
       "            EmailAddress  Name  Status\n",
       "0  Hnin.Tin@nswcc.org.au  Hnin  Active\n",
       "1    deepuinuk@gmail.com  Sree  Active"
      ]
     },
     "execution_count": 4,
     "metadata": {},
     "output_type": "execute_result"
    }
   ],
   "source": [
    "### Test\n",
    "campaign_detail_url = f'https://api.createsend.com/api/v3.2/admins.json'\n",
    "response = requests.get(campaign_detail_url, headers={'Authorization': auth_header } ) \n",
    "response_campaign_list = response.json()\n",
    "df_campaign_list = pd.DataFrame.from_dict(response_campaign_list)\n",
    "df_campaign_list"
   ]
  },
  {
   "cell_type": "code",
   "execution_count": 56,
   "metadata": {},
   "outputs": [
    {
     "data": {
      "text/plain": [
       "'2021-06-16 13:15'"
      ]
     },
     "execution_count": 56,
     "metadata": {},
     "output_type": "execute_result"
    }
   ],
   "source": [
    "### Get the sent campaign\n",
    "def getAllSentCampaigns(clientId):\n",
    "    campaign_detail_url = f'https://api.createsend.com/api/v3.2/clients/{clientId}/campaigns.json'\n",
    "    response = requests.get(campaign_detail_url, headers={'Authorization': auth_header } ) \n",
    "    response_campaign_list = response.json()\n",
    "    df_campaign_list = pd.DataFrame.from_dict(response_campaign_list)\n",
    "    return df_campaign_list\n",
    "\n",
    "\n",
    "def get_datetime_Ndays_ago(n):\n",
    "    N_days_ago_datetime = datetime.now() - timedelta(days=n)\n",
    "    return N_days_ago_datetime.strftime(\"%Y-%m-%d %H:%M\")\n",
    "\n",
    "\n",
    "def getFilteredActiveCampaign(df_campaign_list): \n",
    "    '''\n",
    "    The function filters the campaigns which are still within 120 days since the email sent date.\n",
    "    Basically, get all the still-active campaigns\n",
    "    '''\n",
    "    active_campaign_day = config['campaign']['campaign_active_period_length']\n",
    "    active_period = get_datetime_Ndays_ago(active_period_length)\n",
    "\n",
    "    all_active_campaign = df_campaign_list['SentDate'] > active_period \n",
    "    campaigns_on_active_period = df_campaign_list.loc[all_active_campaign]\n",
    "    return campaigns_on_active_period\n",
    "\n",
    "\n",
    "def insert_into_db(row, cursor, table):\n",
    "    cursor.execute(f'  INSERT INTO {table}'\n",
    "                   '  (campaign_id, email_address, action_date ) VALUES   (?,?,?) ',\n",
    "                   row['campaignId'], row['EmailAddress'], row['Date'])\n",
    "    \n",
    "def get_next_NDays(dateFrom, n):\n",
    "    datetime_object = datetime.strptime(dateFrom, '%Y-%m-%d %H:%M:%S')\n",
    "    next_N_days_datetime = datetime_object + timedelta(days=n)\n",
    "    return next_N_days_datetime.strftime(\"%Y-%m-%d %H:%M\")\n"
   ]
  },
  {
   "cell_type": "markdown",
   "metadata": {},
   "source": [
    "### Data Acquistion through Campaign Monitor API"
   ]
  },
  {
   "cell_type": "code",
   "execution_count": 5,
   "metadata": {},
   "outputs": [
    {
     "ename": "NameError",
     "evalue": "name 'getAllSentCampaigns' is not defined",
     "output_type": "error",
     "traceback": [
      "\u001b[1;31m---------------------------------------------------------------------------\u001b[0m",
      "\u001b[1;31mNameError\u001b[0m                                 Traceback (most recent call last)",
      "\u001b[1;32m<ipython-input-5-43509e9a7c95>\u001b[0m in \u001b[0;36m<module>\u001b[1;34m\u001b[0m\n\u001b[0;32m      6\u001b[0m \u001b[1;33m\u001b[0m\u001b[0m\n\u001b[0;32m      7\u001b[0m \u001b[1;33m\u001b[0m\u001b[0m\n\u001b[1;32m----> 8\u001b[1;33m \u001b[0mdf_all_sent_campaigns_list\u001b[0m \u001b[1;33m=\u001b[0m \u001b[0mgetAllSentCampaigns\u001b[0m\u001b[1;33m(\u001b[0m\u001b[0mclientId\u001b[0m\u001b[1;33m)\u001b[0m\u001b[1;33m\u001b[0m\u001b[1;33m\u001b[0m\u001b[0m\n\u001b[0m\u001b[0;32m      9\u001b[0m \u001b[0mdf_all_sent_campaigns_list\u001b[0m\u001b[1;33m\u001b[0m\u001b[1;33m\u001b[0m\u001b[0m\n\u001b[0;32m     10\u001b[0m \u001b[1;31m# If full-load, download all the historical past campaigns data\u001b[0m\u001b[1;33m\u001b[0m\u001b[1;33m\u001b[0m\u001b[1;33m\u001b[0m\u001b[0m\n",
      "\u001b[1;31mNameError\u001b[0m: name 'getAllSentCampaigns' is not defined"
     ]
    }
   ],
   "source": [
    "final_campaign_action_data = {\"opens\": {\"data\": pd.DataFrame(), \"destination_table_name\": \"campaign_email_opens\"},\n",
    "                              \"clicks\":{\"data\": pd.DataFrame(), \"destination_table_name\": \"campaign_email_clicks\"},\n",
    "                              \"unsubscribes\": {\"data\": pd.DataFrame(), \"destination_table_name\": \"campaign_email_unsubscribes\"},\n",
    "                              \"bounces\": {\"data\": pd.DataFrame(), \"destination_table_name\": \"campaign_email_bounces\"},\n",
    "                              \"spam\": {\"data\": pd.DataFrame(), \"destination_table_name\": \"campaign_email_spam\"} }\n",
    "\n",
    "\n",
    "df_all_sent_campaigns_list = getAllSentCampaigns(clientId)\n",
    "df_all_sent_campaigns_list\n",
    "# If full-load, download all the historical past campaigns data\n",
    "n_past_days = 50\n",
    "if (cfg_loading_method == 'full'):\n",
    "    campaigns_on_active_period = df_all_sent_campaigns_list\n",
    "elif (cfg_loading_method == 'incremental'):\n",
    "    campaigns_on_active_period = getFilteredActiveCampaign(df_all_sent_campaigns_list)\n",
    "\n",
    "campaigns_on_active_period\n",
    "\n",
    "for campaign_id in campaigns_on_active_period['CampaignID']:\n",
    "    \n",
    "    campaign = campaigns_on_active_period[campaigns_on_active_period['CampaignID'] == campaign_id]\n",
    "       \n",
    "    for action in campaign_email_action_list:\n",
    "\n",
    "        url_campaign_opens = f\"https://api.createsend.com/api/v3.2/campaigns/{campaign_id}/{action}.json\"\n",
    "        df_campaign_email_action = pd.DataFrame()\n",
    "        all_records = []\n",
    "        \n",
    "        for x in range(n_past_days):\n",
    "\n",
    "             N_days_ago_datetime = get_datetime_Ndays_ago(x)\n",
    "             # Pass N days if not full load\n",
    "             params[\"date\"] = N_days_ago_datetime\n",
    "             response = requests.get(url_campaign_opens, headers={'Authorization': auth_header }, params = params) \n",
    "             #print(response.json())\n",
    "             response_campaign_action = response.json()\n",
    "             if(len(response_campaign_action[\"Results\"]) == 0): continue\n",
    "             #print(\"Data exists\")\n",
    "             response_dataframe = pd.DataFrame.from_dict(response_campaign_action[\"Results\"])\n",
    "             response_dataframe[\"campaignId\"] = campaign_id\n",
    "             response_dataframe = response_dataframe[desired_columns]\n",
    "             df_campaign_email_action = df_campaign_email_action.append(response_dataframe, ignore_index=True, sort=False) \n",
    "        \n",
    "        if(len(df_campaign_email_action.index) > 0):           \n",
    "            campaign_email_action_dataset = df_campaign_email_action.drop_duplicates()\n",
    "            final_campaign_action_data[action][\"data\"] = final_campaign_action_data[action][\"data\"].append(campaign_email_action_dataset, ignore_index=True, sort=False) "
   ]
  },
  {
   "cell_type": "code",
   "execution_count": 35,
   "metadata": {},
   "outputs": [
    {
     "data": {
      "text/plain": [
       "{'opens': {'data': Empty DataFrame\n",
       "  Columns: []\n",
       "  Index: [], 'destination_table_name': 'campaign_email_opens'},\n",
       " 'clicks': {'data': Empty DataFrame\n",
       "  Columns: []\n",
       "  Index: [], 'destination_table_name': 'campaign_email_clicks'},\n",
       " 'unsubscribes': {'data': Empty DataFrame\n",
       "  Columns: []\n",
       "  Index: [], 'destination_table_name': 'campaign_email_unsubscribes'},\n",
       " 'bounces': {'data': Empty DataFrame\n",
       "  Columns: []\n",
       "  Index: [], 'destination_table_name': 'campaign_email_bounces'},\n",
       " 'spam': {'data': Empty DataFrame\n",
       "  Columns: []\n",
       "  Index: [], 'destination_table_name': 'campaign_email_spam'}}"
      ]
     },
     "execution_count": 35,
     "metadata": {},
     "output_type": "execute_result"
    }
   ],
   "source": [
    "final_campaign_action_data"
   ]
  },
  {
   "cell_type": "code",
   "execution_count": 8,
   "metadata": {},
   "outputs": [
    {
     "name": "stdout",
     "output_type": "stream",
     "text": [
      "Total Number of Records (10, 3)\n"
     ]
    }
   ],
   "source": [
    "print(\"Total Number of Records\", campaingn_opens_dataset.shape)"
   ]
  },
  {
   "cell_type": "code",
   "execution_count": 34,
   "metadata": {},
   "outputs": [
    {
     "data": {
      "text/plain": [
       "{'opens': {'data': Empty DataFrame\n",
       "  Columns: []\n",
       "  Index: [], 'destination_table_name': 'campaign_email_opens'},\n",
       " 'clicks': {'data': Empty DataFrame\n",
       "  Columns: []\n",
       "  Index: [], 'destination_table_name': 'campaign_email_clicks'},\n",
       " 'unsubscribes': {'data': Empty DataFrame\n",
       "  Columns: []\n",
       "  Index: [], 'destination_table_name': 'campaign_email_unsubscribes'},\n",
       " 'bounces': {'data': Empty DataFrame\n",
       "  Columns: []\n",
       "  Index: [], 'destination_table_name': 'campaign_email_bounces'},\n",
       " 'spam': {'data': Empty DataFrame\n",
       "  Columns: []\n",
       "  Index: [], 'destination_table_name': 'campaign_email_spam'}}"
      ]
     },
     "execution_count": 34,
     "metadata": {},
     "output_type": "execute_result"
    }
   ],
   "source": [
    "final_campaign_action_data"
   ]
  },
  {
   "cell_type": "markdown",
   "metadata": {},
   "source": [
    "### Insert Into Database\n"
   ]
  },
  {
   "cell_type": "code",
   "execution_count": 33,
   "metadata": {},
   "outputs": [],
   "source": [
    "for action in campaign_email_action_list:\n",
    "        \n",
    "        cursor = conn.cursor()\n",
    "        table_name = final_campaign_action_data[action][\"destination_table_name\"] \n",
    "        #dbfun_name = final_campaign_action_data[action][\"db_function\"] \n",
    "        campaign_data = final_campaign_action_data[action][\"data\"]\n",
    "        if (campaign_data.empty) : continue\n",
    "        try:\n",
    "            #if full-load, delete all the records from the table\n",
    "            if (cfg_load_method == 'full'):\n",
    "                cursor.execute(f'DELETE FROM {table_name}')\n",
    "            print(\"action\", action)\n",
    "            #insert dataframe to DB\n",
    "            campaign_data.apply(insert_into_db, cursor = cursor, axis = 1, table = table_name)\n",
    "            \n",
    "            cursor.execute('INSERT INTO '\n",
    "                   '       log_success_load '\n",
    "                   '       (load_date, method, data_start_date, data_end_date, start_runtime, end_runtime, table_name) '\n",
    "                   'VALUES (?,?,?,?,?,?,?)',\n",
    "                  start_proc_time.strftime('%Y-%m-%d'),\n",
    "                  cfg_load_method,\n",
    "                  cfg_start_date.strftime('%Y-%m-%d'),\n",
    "                  cfg_end_date.strftime('%Y-%m-%d'),\n",
    "                  start_proc_time,\n",
    "                  end_proc_time, \n",
    "                  table_name) \n",
    "\n",
    "            conn.commit()\n",
    "        except:\n",
    "            conn.rollback()\n",
    "            print(sys.exc_info())\n",
    "        finally:  \n",
    "            cursor.close()"
   ]
  },
  {
   "cell_type": "code",
   "execution_count": 6,
   "metadata": {},
   "outputs": [
    {
     "name": "stdout",
     "output_type": "stream",
     "text": [
      "Total Number of Records (10, 3)\n"
     ]
    }
   ],
   "source": [
    "campaingn_opens_dataset = pd.DataFrame()\n",
    "all_records = []\n",
    "n_past_days = 120\n",
    "params = {\"page\": page, \"pagesize\": pagesize, \"orderfield\": \"email\", \"orderdirection\": \"asc\" }\n",
    "#desired_columns = [\"campaignId\", \"EmailAddress\", \"Date\", \"CountryCode\", \"ListID\"]\n",
    "desired_columns = [\"campaignId\", \"EmailAddress\", \"Date\"]\n",
    "\n",
    "for campaign_id in campaigns_on_active_period[\"CampaignID\"]:\n",
    "\n",
    "    url_campaign_opens = f\"https://api.createsend.com/api/v3.2/campaigns/{campaign_id}/opens.json\"\n",
    "    df_campaign_email_opens = pd.DataFrame()\n",
    "    for x in range(n_past_days):\n",
    "        \n",
    "         N_days_ago_datetime = get_datetime_Ndays_ago(x)\n",
    "         # Pass N days if not full load\n",
    "         params[\"date\"] = N_days_ago_datetime\n",
    "         response = requests.get(url_campaign_opens, headers={'Authorization': auth_header }, params = params) \n",
    "         #print(response.json())\n",
    "         response_campaign_opens = response.json()\n",
    "         if(len(response_campaign_opens[\"Results\"]) == 0): continue\n",
    "         #print(\"Data exists\")\n",
    "         response_dataframe = pd.DataFrame.from_dict(response_campaign_opens[\"Results\"])\n",
    "         response_dataframe[\"campaignId\"] = campaign_id\n",
    "         \n",
    "         df_campaign_email_opens = df_campaign_email_opens.append(response_dataframe, ignore_index=True, sort=False) \n",
    "         \n",
    "    \n",
    "    all_records.append(df_campaign_email_opens)\n",
    "    \n",
    "\n",
    "    #print(\"All record length\", len(all_records))\n",
    "    if(len(all_records) > 0):\n",
    "        campaingn_opens_dataset = pd.concat(all_records, axis=0, ignore_index=True, sort=False) \n",
    "        campaingn_opens_dataset = campaingn_opens_dataset[desired_columns]\n",
    "        campaingn_opens_dataset = campaingn_opens_dataset.drop_duplicates()\n",
    "\n",
    "\n",
    "print(\"Total Number of Records\", campaingn_opens_dataset.shape)"
   ]
  },
  {
   "cell_type": "code",
   "execution_count": 39,
   "metadata": {},
   "outputs": [
    {
     "name": "stdout",
     "output_type": "stream",
     "text": [
      "campaign_email_opens\n",
      "Empty DataFrame\n",
      "Columns: []\n",
      "Index: []\n",
      "campaign_email_clicks\n",
      "Empty DataFrame\n",
      "Columns: []\n",
      "Index: []\n",
      "campaign_email_unsubscribes\n",
      "Empty DataFrame\n",
      "Columns: []\n",
      "Index: []\n",
      "campaign_email_bounces\n",
      "Empty DataFrame\n",
      "Columns: []\n",
      "Index: []\n",
      "campaign_email_spam\n",
      "Empty DataFrame\n",
      "Columns: []\n",
      "Index: []\n"
     ]
    }
   ],
   "source": [
    "##### Isolated Code for Degugging Purpose ######\n",
    "campaign_email_action_list = [\"opens\", \"clicks\", \"unsubscribes\", \"bounces\", \"spam\"]\n",
    "\n",
    "final_campaign_action_data = {\"opens\": {\"data\": pd.DataFrame(), \"destination_table_name\": \"campaign_email_opens\"},\n",
    "                              \"clicks\":{\"data\": pd.DataFrame(), \"destination_table_name\": \"campaign_email_clicks\"},\n",
    "                              \"unsubscribes\": {\"data\": pd.DataFrame(), \"destination_table_name\": \"campaign_email_unsubscribes\"},\n",
    "                              \"bounces\": {\"data\": pd.DataFrame(), \"destination_table_name\": \"campaign_email_bounces\"},\n",
    "                              \"spam\": {\"data\": pd.DataFrame(), \"destination_table_name\": \"campaign_email_spam\"} }\n",
    "\n",
    "for action in campaign_email_action_list:\n",
    "        table_name = final_campaign_action_data[action][\"destination_table_name\"]\n",
    "        campaign_data = final_campaign_action_data[action][\"data\"]\n",
    "        print(table_name)\n",
    "        print(campaign_data)"
   ]
  }
 ],
 "metadata": {
  "kernelspec": {
   "display_name": "Python 3",
   "language": "python",
   "name": "python3"
  },
  "language_info": {
   "codemirror_mode": {
    "name": "ipython",
    "version": 3
   },
   "file_extension": ".py",
   "mimetype": "text/x-python",
   "name": "python",
   "nbconvert_exporter": "python",
   "pygments_lexer": "ipython3",
   "version": "3.8.5"
  }
 },
 "nbformat": 4,
 "nbformat_minor": 2
}
