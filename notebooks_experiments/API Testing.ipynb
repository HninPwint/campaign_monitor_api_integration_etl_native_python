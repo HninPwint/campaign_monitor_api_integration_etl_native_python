{
 "cells": [
  {
   "cell_type": "code",
   "execution_count": 3,
   "metadata": {},
   "outputs": [],
   "source": [
    "import requests\n",
    "from base64 import b64encode\n",
    "import json\n",
    "import pandas as pd"
   ]
  },
  {
   "cell_type": "code",
   "execution_count": 4,
   "metadata": {},
   "outputs": [],
   "source": [
    "url = \"https://api.createsend.com/api/v3.2/clients.json\"   \n",
    "apikey = \"fz/ocDZn9rHm9ZAupGsDNjoBZGSnHO+8vmU/xWiPPvvFzPE0STJnTbnvu6/FvyOpUhp/TBu0txZ4xZYz6J8iyxkUDkBowVTiDflAvH0qdi5NzWSW+iq8L7j77/Qg77/6Wkj1JvxGkBTOtFOpV9saGw==\"\n",
    "clientId = \"33604187fc197c87eb8d2f553935ef8e\"\n",
    "\n",
    "page = 1\n",
    "pagesize = 1000\n"
   ]
  },
  {
   "cell_type": "code",
   "execution_count": 5,
   "metadata": {},
   "outputs": [
    {
     "name": "stdout",
     "output_type": "stream",
     "text": [
      "{'Code': 50, 'Message': 'Must supply a valid HTTP Basic Authorization header'}\n"
     ]
    }
   ],
   "source": [
    "# Invalid API Call returns the error\n",
    "# {'Code': 50, 'Message': 'Must supply a valid HTTP Basic Authorization header'}\n",
    "response = requests.get( url, params= { \"username\" : apikey, \"password\" : \"\"})\n",
    "\n",
    "json_response = response.json()\n",
    "print(json_response)"
   ]
  },
  {
   "cell_type": "markdown",
   "metadata": {},
   "source": [
    "# API Authentication and Authorization in header"
   ]
  },
  {
   "cell_type": "code",
   "execution_count": 10,
   "metadata": {},
   "outputs": [
    {
     "name": "stdout",
     "output_type": "stream",
     "text": [
      "Auth header: Basic Znovb2NEWm45ckhtOVpBdXBHc0ROam9CWkdTbkhPKzh2bVUveFdpUFB2dkZ6UEUwU1RKblRibnZ1Ni9GdnlPcFVocC9UQnUwdHhaNHhaWXo2SjhpeXhrVURrQm93VlRpRGZsQXZIMHFkaTVOeldTVytpcThMN2o3Ny9RZzc3LzZXa2oxSnZ4R2tCVE90Rk9wVjlzYUd3PT06\n"
     ]
    }
   ],
   "source": [
    "# Encode the credentials with base64\n",
    "username = apikey\n",
    "password = ''\n",
    "encoded_credentials = b64encode(bytes(f'{username}:{password}',encoding='ascii')).decode('ascii')\n",
    "\n",
    "# Use Basic Authorization\n",
    "auth_header = f'Basic {encoded_credentials}'\n",
    "\n",
    "print(f'Auth header: {auth_header}')"
   ]
  },
  {
   "cell_type": "code",
   "execution_count": 11,
   "metadata": {},
   "outputs": [
    {
     "name": "stdout",
     "output_type": "stream",
     "text": [
      "[{'ClientID': '33604187fc197c87eb8d2f553935ef8e', 'Name': 'Perso'}]\n"
     ]
    }
   ],
   "source": [
    "# Supply the valid encoded HTTP Basic Authorization header\n",
    "response = requests.get(url, headers={'Authorization': auth_header } )\n",
    "json_response = response.json()\n",
    "print(json_response)"
   ]
  },
  {
   "cell_type": "code",
   "execution_count": 12,
   "metadata": {},
   "outputs": [
    {
     "name": "stdout",
     "output_type": "stream",
     "text": [
      "{'Credits': 0}\n"
     ]
    }
   ],
   "source": [
    "# Bailing Deatils\n",
    "bailing_url = \"https://api.createsend.com/api/v3.2/billingdetails.json\"\n",
    "response = requests.get(bailing_url, headers={'Authorization': auth_header } ) \n",
    "response_bailing = response.json()\n",
    "print(response_bailing)"
   ]
  },
  {
   "cell_type": "markdown",
   "metadata": {},
   "source": [
    "###  Get  all Admin Accounts under the Client"
   ]
  },
  {
   "cell_type": "code",
   "execution_count": 13,
   "metadata": {},
   "outputs": [
    {
     "data": {
      "text/html": [
       "<div>\n",
       "<style scoped>\n",
       "    .dataframe tbody tr th:only-of-type {\n",
       "        vertical-align: middle;\n",
       "    }\n",
       "\n",
       "    .dataframe tbody tr th {\n",
       "        vertical-align: top;\n",
       "    }\n",
       "\n",
       "    .dataframe thead th {\n",
       "        text-align: right;\n",
       "    }\n",
       "</style>\n",
       "<table border=\"1\" class=\"dataframe\">\n",
       "  <thead>\n",
       "    <tr style=\"text-align: right;\">\n",
       "      <th></th>\n",
       "      <th>EmailAddress</th>\n",
       "      <th>Name</th>\n",
       "      <th>Status</th>\n",
       "    </tr>\n",
       "  </thead>\n",
       "  <tbody>\n",
       "    <tr>\n",
       "      <th>0</th>\n",
       "      <td>Hnin.Tin@nswcc.org.au</td>\n",
       "      <td>Hnin</td>\n",
       "      <td>Active</td>\n",
       "    </tr>\n",
       "    <tr>\n",
       "      <th>1</th>\n",
       "      <td>deepuinuk@gmail.com</td>\n",
       "      <td>Sree</td>\n",
       "      <td>Active</td>\n",
       "    </tr>\n",
       "  </tbody>\n",
       "</table>\n",
       "</div>"
      ],
      "text/plain": [
       "            EmailAddress  Name  Status\n",
       "0  Hnin.Tin@nswcc.org.au  Hnin  Active\n",
       "1    deepuinuk@gmail.com  Sree  Active"
      ]
     },
     "execution_count": 13,
     "metadata": {},
     "output_type": "execute_result"
    }
   ],
   "source": [
    "### Test\n",
    "campaign_detail_url = f'https://api.createsend.com/api/v3.2/admins.json'\n",
    "response = requests.get(campaign_detail_url, headers={'Authorization': auth_header } ) \n",
    "response_campaign_list = response.json()\n",
    "df_campaign_list = pd.DataFrame.from_dict(response_campaign_list)\n",
    "df_campaign_list"
   ]
  },
  {
   "cell_type": "code",
   "execution_count": null,
   "metadata": {},
   "outputs": [],
   "source": []
  },
  {
   "cell_type": "markdown",
   "metadata": {},
   "source": [
    "# Get the Sent Campaigns"
   ]
  },
  {
   "cell_type": "code",
   "execution_count": 9,
   "metadata": {},
   "outputs": [
    {
     "name": "stdout",
     "output_type": "stream",
     "text": [
      "[\n",
      "  {\n",
      "    \"Name\": \"Hnin's Test Campaign - 7 Bridges Walk\",\n",
      "    \"FromName\": \"Tin\",\n",
      "    \"FromEmail\": \"hnin.tin@nswcc.org.au\",\n",
      "    \"ReplyTo\": \"hnin.tin@nswcc.org.au\",\n",
      "    \"SentDate\": \"2021-06-28 21:00:00\",\n",
      "    \"TotalRecipients\": 7,\n",
      "    \"CampaignID\": \"ce185945c964039a4c98356171184635\",\n",
      "    \"Subject\": \"Hnin's Test Campaign - 7 Bridges Walk\",\n",
      "    \"WebVersionURL\": \"http://createsend.com/t/t-DA5BE051603CAA132540EF23F30FEDED\",\n",
      "    \"WebVersionTextURL\": \"http://createsend.com/t/t-DA5BE051603CAA132540EF23F30FEDED/t\"\n",
      "  },\n",
      "  {\n",
      "    \"Name\": \"7 Bridges Walk Campaign - Test\",\n",
      "    \"FromName\": \"Tin\",\n",
      "    \"FromEmail\": \"HninPwint.Tin@student.uts.edu.au\",\n",
      "    \"ReplyTo\": \"hninpt@gmail.com\",\n",
      "    \"SentDate\": \"2021-06-28 15:15:00\",\n",
      "    \"TotalRecipients\": 11,\n",
      "    \"CampaignID\": \"0d08177d516bbd73a80c42e1781fff32\",\n",
      "    \"Subject\": \"7 Bridges Walk Campaign\",\n",
      "    \"WebVersionURL\": \"http://createsend.com/t/t-B86B960065A4D1F82540EF23F30FEDED\",\n",
      "    \"WebVersionTextURL\": \"http://createsend.com/t/t-B86B960065A4D1F82540EF23F30FEDED/t\"\n",
      "  },\n",
      "  {\n",
      "    \"Name\": \"Orientation\",\n",
      "    \"FromName\": \"Tin\",\n",
      "    \"FromEmail\": \"hninpwint.tin@student.uts.edu.au\",\n",
      "    \"ReplyTo\": \"hninpwint.tin@student.uts.edu.au\",\n",
      "    \"SentDate\": \"2021-02-16 13:15:00\",\n",
      "    \"TotalRecipients\": 7,\n",
      "    \"CampaignID\": \"8ea6917cdc30de10b02382677c8eda28\",\n",
      "    \"Subject\": \"Orientation\",\n",
      "    \"WebVersionURL\": \"http://createsend.com/t/t-89A0DB4CA59D75842540EF23F30FEDED\",\n",
      "    \"WebVersionTextURL\": \"http://createsend.com/t/t-89A0DB4CA59D75842540EF23F30FEDED/t\"\n",
      "  },\n",
      "  {\n",
      "    \"Name\": \"Tin's School Fund Campaign\",\n",
      "    \"FromName\": \"Tin\",\n",
      "    \"FromEmail\": \"hninpwint.tin@student.uts.edu.au\",\n",
      "    \"ReplyTo\": \"hninpwint.tin@student.uts.edu.au\",\n",
      "    \"SentDate\": \"2020-12-08 16:30:00\",\n",
      "    \"TotalRecipients\": 5,\n",
      "    \"CampaignID\": \"8fd3ba6bd1dd1d58ce10cd28a12f3795\",\n",
      "    \"Subject\": \"Tin's School Fund Campaign\",\n",
      "    \"WebVersionURL\": \"http://createsend.com/t/t-2792275A54D1EB4C2540EF23F30FEDED\",\n",
      "    \"WebVersionTextURL\": \"http://createsend.com/t/t-2792275A54D1EB4C2540EF23F30FEDED/t\"\n",
      "  },\n",
      "  {\n",
      "    \"Name\": \"Tin's Test Campaign for Breakfast\",\n",
      "    \"FromName\": \"Tin\",\n",
      "    \"FromEmail\": \"hninpwint.tin@student.uts.edu.au\",\n",
      "    \"ReplyTo\": \"hninpwint.tin@student.uts.edu.au\",\n",
      "    \"SentDate\": \"2020-12-07 14:20:00\",\n",
      "    \"TotalRecipients\": 3,\n",
      "    \"CampaignID\": \"319f7bddfdce8c093e96c39726e62048\",\n",
      "    \"Subject\": \"Tin's Test Campaign\",\n",
      "    \"WebVersionURL\": \"http://createsend.com/t/t-8398EA282987899E2540EF23F30FEDED\",\n",
      "    \"WebVersionTextURL\": \"http://createsend.com/t/t-8398EA282987899E2540EF23F30FEDED/t\"\n",
      "  },\n",
      "  {\n",
      "    \"Name\": \"Breakfast for Students Campaign\",\n",
      "    \"FromName\": \"Tin\",\n",
      "    \"FromEmail\": \"hninpwint.tin@student.uts.edu.au\",\n",
      "    \"ReplyTo\": \"hninpwint.tin@student.uts.edu.au\",\n",
      "    \"SentDate\": \"2020-12-01 17:37:00\",\n",
      "    \"TotalRecipients\": 1,\n",
      "    \"CampaignID\": \"7fac9427e46cd56cf13fed5c723d7801\",\n",
      "    \"Subject\": \"Tin's Campaign\",\n",
      "    \"WebVersionURL\": \"http://createsend.com/t/t-B4D1C2432919123A2540EF23F30FEDED\",\n",
      "    \"WebVersionTextURL\": \"http://createsend.com/t/t-B4D1C2432919123A2540EF23F30FEDED/t\"\n",
      "  }\n",
      "]\n"
     ]
    }
   ],
   "source": [
    "########## Get the Sent Campaigns #########\n",
    "# Get the Campaign Id from this API for future campaign -related API\n",
    "client_detail_url = f'https://api.createsend.com/api/v3.2/clients/{clientId}/campaigns.json'\n",
    "response = requests.get(client_detail_url, headers={'Authorization': auth_header } ) \n",
    "response_client_detail = response.json()\n",
    "print(json.dumps(response_client_detail, indent=2))"
   ]
  },
  {
   "cell_type": "markdown",
   "metadata": {},
   "source": [
    "### Mailing list"
   ]
  },
  {
   "cell_type": "code",
   "execution_count": 14,
   "metadata": {},
   "outputs": [
    {
     "name": "stdout",
     "output_type": "stream",
     "text": [
      "[{'ListID': '804cca72b4cda6c7e2ca8acb24ce84c2', 'Name': \"Hnin's Clients List\"}, {'ListID': '3263ab373327356697cb1ed62aaebdfc', 'Name': 'MI Team Internal Test List'}]\n"
     ]
    }
   ],
   "source": [
    "lists_url = f'https://api.createsend.com/api/v3.2/clients/{clientId}/lists.json'\n",
    "response = requests.get(lists_url, headers={'Authorization': auth_header } ) \n",
    "response_list = response.json()\n",
    "print(response_list)"
   ]
  },
  {
   "cell_type": "markdown",
   "metadata": {},
   "source": [
    "### "
   ]
  },
  {
   "cell_type": "code",
   "execution_count": 19,
   "metadata": {},
   "outputs": [
    {
     "name": "stdout",
     "output_type": "stream",
     "text": [
      "[{'ListID': '804cca72b4cda6c7e2ca8acb24ce84c2', 'ListName': \"Hnin's Clients List\", 'SubscriberState': 'Active', 'DateSubscriberAdded': '2020-12-07 12:04:00'}]\n"
     ]
    }
   ],
   "source": [
    "# Getting Subscriber List\n",
    "# https://api.createsend.com/api/v3.2/clients/{clientid}/lists.{xml|json}\n",
    "# https://api.createsend.com/api/v3.2/clients/{clientid}/listsforemail.{xml|json}?email={email}\n",
    "email = 'hninpwint.tin@student.uts.edu.au'\n",
    "\n",
    "# Getting list for email address\n",
    "subscriber_list_url = f'https://api.createsend.com/api/v3.2/clients/{clientId}/listsforemail.json?email={email}'\n",
    "response = requests.get(subscriber_list_url, headers={'Authorization': auth_header } ) \n",
    "response_suscriber_list = response.json()\n",
    "print(response_suscriber_list)"
   ]
  },
  {
   "cell_type": "code",
   "execution_count": 20,
   "metadata": {},
   "outputs": [
    {
     "name": "stdout",
     "output_type": "stream",
     "text": [
      "{'Results': [{'SuppressionReason': 'Unsubscribed', 'EmailAddress': 'deepuinuk@gmail.com', 'Date': '2020-12-01 17:53:35', 'State': 'Suppressed'}, {'SuppressionReason': 'Unsubscribed', 'EmailAddress': 'dwal02@hotmail.com', 'Date': '2021-06-28 15:45:32', 'State': 'Suppressed'}], 'ResultsOrderedBy': 'email', 'OrderDirection': 'asc', 'PageNumber': 1, 'PageSize': 1000, 'RecordsOnThisPage': 2, 'TotalNumberOfRecords': 2, 'NumberOfPages': 1}\n"
     ]
    }
   ],
   "source": [
    "# Getting suppression list - a paged result representing the client’s suppression list.\n",
    "\n",
    "supression_list_url = f\"https://api.createsend.com/api/v3.2/clients/{clientId}/suppressionlist.json?page={page}&pagesize={pagesize}&orderfield=email&orderdirection=asc\"\n",
    "response = requests.get(supression_list_url, headers={'Authorization': auth_header } ) \n",
    "supression_list_response = response.json()\n",
    "print(supression_list_response)"
   ]
  },
  {
   "cell_type": "code",
   "execution_count": 17,
   "metadata": {},
   "outputs": [
    {
     "name": "stdout",
     "output_type": "stream",
     "text": [
      "[{'Client': 'Gmail', 'Version': 'Gmail', 'Percentage': 100.0, 'Subscribers': 1}]\n"
     ]
    }
   ],
   "source": [
    "# Sample Campaign Id\n",
    "campaignId_3 = \"8fd3ba6bd1dd1d58ce10cd28a12f3795\"\n",
    "campaignId_2 = \"319f7bddfdce8c093e96c39726e62048\"\n",
    "campaignId_1 = \"7fac9427e46cd56cf13fed5c723d7801\"\n",
    "\n",
    "url_usage = f\"https://api.createsend.com/api/v3.2/campaigns/{campaignId_2}/emailclientusage.json\"\n",
    "response = requests.get(url_usage, headers={'Authorization': auth_header } ) \n",
    "email_respose = response.json()\n",
    "print(email_respose)"
   ]
  },
  {
   "cell_type": "markdown",
   "metadata": {},
   "source": [
    "# Get the list of Campaign Recipients"
   ]
  },
  {
   "cell_type": "code",
   "execution_count": 18,
   "metadata": {},
   "outputs": [
    {
     "name": "stdout",
     "output_type": "stream",
     "text": [
      "{\n",
      "  \"Results\": [\n",
      "    {\n",
      "      \"EmailAddress\": \"ashish.kulkarni@live.com\",\n",
      "      \"ListID\": \"804cca72b4cda6c7e2ca8acb24ce84c2\"\n",
      "    },\n",
      "    {\n",
      "      \"EmailAddress\": \"ashish.kulkarni86@gmail.com\",\n",
      "      \"ListID\": \"804cca72b4cda6c7e2ca8acb24ce84c2\"\n",
      "    },\n",
      "    {\n",
      "      \"EmailAddress\": \"ashish@phillip.com.sg\",\n",
      "      \"ListID\": \"804cca72b4cda6c7e2ca8acb24ce84c2\"\n",
      "    },\n",
      "    {\n",
      "      \"EmailAddress\": \"hninpt@gmail.com\",\n",
      "      \"ListID\": \"804cca72b4cda6c7e2ca8acb24ce84c2\"\n",
      "    },\n",
      "    {\n",
      "      \"EmailAddress\": \"hninpwint.tin@student.uts.edu.au\",\n",
      "      \"ListID\": \"804cca72b4cda6c7e2ca8acb24ce84c2\"\n",
      "    }\n",
      "  ],\n",
      "  \"ResultsOrderedBy\": \"email\",\n",
      "  \"OrderDirection\": \"asc\",\n",
      "  \"PageNumber\": 1,\n",
      "  \"PageSize\": 1000,\n",
      "  \"RecordsOnThisPage\": 5,\n",
      "  \"TotalNumberOfRecords\": 5,\n",
      "  \"NumberOfPages\": 1\n",
      "}\n"
     ]
    }
   ],
   "source": [
    "params = {\"page\": page, \"pagesize\": pagesize, \"orderfield\": \"email\", \"orderdirection\": \"asc\" }\n",
    "\n",
    "### Get the list of Campaign recipient \n",
    "url_campaign_recipients = f\"https://api.createsend.com/api/v3.2/campaigns/{campaignId_3}/recipients.json\"\n",
    "response = requests.get(url_campaign_recipients, headers={'Authorization': auth_header } , params = params) \n",
    "email_respose = response.json()\n",
    "\n",
    "# Formatting Json response\n",
    "json_formatted_str = json.dumps(email_respose, indent=2)\n",
    "print(json_formatted_str)"
   ]
  },
  {
   "cell_type": "markdown",
   "metadata": {},
   "source": [
    "# Get the list of subscribers who opened a given campaign"
   ]
  },
  {
   "cell_type": "code",
   "execution_count": 14,
   "metadata": {},
   "outputs": [
    {
     "name": "stdout",
     "output_type": "stream",
     "text": [
      "now 2020-12-23 15:45:51.811522\n",
      "current_datetime 2020-12-23 15:45\n"
     ]
    }
   ],
   "source": [
    "from datetime import datetime\n",
    "now = datetime.now()\n",
    "current_datetime = now.strftime(\"%Y-%m-%d %H:%M\")\n",
    "print(\"now\", now)\n",
    "print(\"current_datetime\", current_datetime)\n",
    "\n",
    "params = {\"page\": page, \"pagesize\": pagesize, \"date\": current_datetime, \"orderfield\": \"email\", \"orderdirection\": \"asc\" }\n",
    "#params = {\"page\": page, \"pagesize\": pagesize, \"orderfield\": \"email\", \"orderdirection\": \"asc\" }\n",
    "url_open_mails = f\"https://api.createsend.com/api/v3.2/campaigns/{campaignId_3}/opens.json\"\n",
    "\n",
    "response = requests.get(url_open_mails, headers={'Authorization': auth_header } , params = params) \n",
    "response_open_mails = response.json()\n",
    "\n",
    "# Formatting Json response\n",
    "json_formatted_str = json.dumps(response_open_mails, indent=2)\n",
    "# print(json_formatted_str)"
   ]
  },
  {
   "cell_type": "markdown",
   "metadata": {},
   "source": [
    "# Get the list of subscribers who bounce back the email"
   ]
  },
  {
   "cell_type": "code",
   "execution_count": 17,
   "metadata": {},
   "outputs": [
    {
     "name": "stdout",
     "output_type": "stream",
     "text": [
      "now 2020-12-23 15:46:34.457519\n",
      "current_datetime 2020-12-23 15:46\n",
      "{\n",
      "  \"Results\": [],\n",
      "  \"ResultsOrderedBy\": \"email\",\n",
      "  \"OrderDirection\": \"asc\",\n",
      "  \"PageNumber\": 1,\n",
      "  \"PageSize\": 1000,\n",
      "  \"RecordsOnThisPage\": 0,\n",
      "  \"TotalNumberOfRecords\": 0,\n",
      "  \"NumberOfPages\": 0\n",
      "}\n"
     ]
    }
   ],
   "source": [
    "now = datetime.now()\n",
    "current_datetime = now.strftime(\"%Y-%m-%d %H:%M\")\n",
    "print(\"now\", now)\n",
    "print(\"current_datetime\", current_datetime)\n",
    "\n",
    "params = {\"page\": page, \"pagesize\": pagesize, \"date\": current_datetime, \"orderfield\": \"email\", \"orderdirection\": \"asc\" }\n",
    "url_open_mails = f\"https://api.createsend.com/api/v3.2/campaigns/{campaignId_3}/bounces.json\"\n",
    "\n",
    "response = requests.get(url_open_mails, headers={'Authorization': auth_header } , params = params) \n",
    "response_open_mails = response.json()\n",
    "\n",
    "# Formatting Json response\n",
    "json_formatted_str = json.dumps(response_open_mails, indent=2)\n",
    "print(json_formatted_str)"
   ]
  },
  {
   "cell_type": "markdown",
   "metadata": {},
   "source": [
    "# Get the Summary of Campaign"
   ]
  },
  {
   "cell_type": "code",
   "execution_count": 16,
   "metadata": {},
   "outputs": [
    {
     "name": "stdout",
     "output_type": "stream",
     "text": [
      "{\n",
      "  \"WebVersionURL\": \"http://createsend.com/t/t-2792275A54D1EB4C2540EF23F30FEDED\",\n",
      "  \"WebVersionTextURL\": \"http://createsend.com/t/t-2792275A54D1EB4C2540EF23F30FEDED/t\",\n",
      "  \"WorldviewURL\": \"http://perso116.createsend.com/reports/wv/t/2792275A54D1EB4C2540EF23F30FEDED\",\n",
      "  \"Forwards\": 0,\n",
      "  \"Likes\": 0,\n",
      "  \"Mentions\": 0,\n",
      "  \"Recipients\": 5,\n",
      "  \"TotalOpened\": 9,\n",
      "  \"Clicks\": 0,\n",
      "  \"Unsubscribed\": 0,\n",
      "  \"Bounced\": 1,\n",
      "  \"UniqueOpened\": 3,\n",
      "  \"SpamComplaints\": 0\n",
      "}\n"
     ]
    },
    {
     "data": {
      "text/html": [
       "<div>\n",
       "<style scoped>\n",
       "    .dataframe tbody tr th:only-of-type {\n",
       "        vertical-align: middle;\n",
       "    }\n",
       "\n",
       "    .dataframe tbody tr th {\n",
       "        vertical-align: top;\n",
       "    }\n",
       "\n",
       "    .dataframe thead th {\n",
       "        text-align: right;\n",
       "    }\n",
       "</style>\n",
       "<table border=\"1\" class=\"dataframe\">\n",
       "  <thead>\n",
       "    <tr style=\"text-align: right;\">\n",
       "      <th></th>\n",
       "      <th>WebVersionURL</th>\n",
       "      <th>WebVersionTextURL</th>\n",
       "      <th>WorldviewURL</th>\n",
       "      <th>Forwards</th>\n",
       "      <th>Likes</th>\n",
       "      <th>Mentions</th>\n",
       "      <th>Recipients</th>\n",
       "      <th>TotalOpened</th>\n",
       "      <th>Clicks</th>\n",
       "      <th>Unsubscribed</th>\n",
       "      <th>Bounced</th>\n",
       "      <th>UniqueOpened</th>\n",
       "      <th>SpamComplaints</th>\n",
       "    </tr>\n",
       "  </thead>\n",
       "  <tbody>\n",
       "    <tr>\n",
       "      <td>0</td>\n",
       "      <td>http://createsend.com/t/t-2792275A54D1EB4C2540...</td>\n",
       "      <td>http://createsend.com/t/t-2792275A54D1EB4C2540...</td>\n",
       "      <td>http://perso116.createsend.com/reports/wv/t/27...</td>\n",
       "      <td>0</td>\n",
       "      <td>0</td>\n",
       "      <td>0</td>\n",
       "      <td>5</td>\n",
       "      <td>9</td>\n",
       "      <td>0</td>\n",
       "      <td>0</td>\n",
       "      <td>1</td>\n",
       "      <td>3</td>\n",
       "      <td>0</td>\n",
       "    </tr>\n",
       "  </tbody>\n",
       "</table>\n",
       "</div>"
      ],
      "text/plain": [
       "                                       WebVersionURL  \\\n",
       "0  http://createsend.com/t/t-2792275A54D1EB4C2540...   \n",
       "\n",
       "                                   WebVersionTextURL  \\\n",
       "0  http://createsend.com/t/t-2792275A54D1EB4C2540...   \n",
       "\n",
       "                                        WorldviewURL  Forwards  Likes  \\\n",
       "0  http://perso116.createsend.com/reports/wv/t/27...         0      0   \n",
       "\n",
       "   Mentions  Recipients  TotalOpened  Clicks  Unsubscribed  Bounced  \\\n",
       "0         0           5            9       0             0        1   \n",
       "\n",
       "   UniqueOpened  SpamComplaints  \n",
       "0             3               0  "
      ]
     },
     "execution_count": 16,
     "metadata": {},
     "output_type": "execute_result"
    }
   ],
   "source": [
    "url_campaign_summary = f\"https://api.createsend.com/api/v3.2/campaigns/{campaignId_3}/summary.json\"\n",
    "\n",
    "response = requests.get(url_campaign_summary, headers={'Authorization': auth_header }) \n",
    "response_campaign_summary = response.json()\n",
    "\n",
    "# Formatting Json response for Display\n",
    "json_formatted_str = json.dumps(response_campaign_summary, indent=2)\n",
    "print(json_formatted_str)\n",
    "\n",
    "# Convert  Json output into dataframe\n",
    "# Without supplying index, the error is  \"If using all scalar values, you must pass an index\"\n",
    "df_campaign_summary = pd.DataFrame(response_campaign_summary,  index=[0])\n",
    "df_campaign_summary.head()"
   ]
  }
 ],
 "metadata": {
  "kernelspec": {
   "display_name": "Python 3",
   "language": "python",
   "name": "python3"
  },
  "language_info": {
   "codemirror_mode": {
    "name": "ipython",
    "version": 3
   },
   "file_extension": ".py",
   "mimetype": "text/x-python",
   "name": "python",
   "nbconvert_exporter": "python",
   "pygments_lexer": "ipython3",
   "version": "3.8.5"
  }
 },
 "nbformat": 4,
 "nbformat_minor": 2
}