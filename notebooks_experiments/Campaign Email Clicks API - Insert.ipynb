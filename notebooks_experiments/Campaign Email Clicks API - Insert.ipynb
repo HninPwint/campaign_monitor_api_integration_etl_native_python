{
 "cells": [
  {
   "cell_type": "markdown",
   "metadata": {},
   "source": [
    "# Campaign Email Opens\n",
    "This API integration stores the data of campaigns in which the recipients opened the mails\n"
   ]
  },
  {
   "cell_type": "code",
   "execution_count": 19,
   "metadata": {},
   "outputs": [
    {
     "name": "stdout",
     "output_type": "stream",
     "text": [
      "Auth header: Basic Znovb2NEWm45ckhtOVpBdXBHc0ROam9CWkdTbkhPKzh2bVUveFdpUFB2dkZ6UEUwU1RKblRibnZ1Ni9GdnlPcFVocC9UQnUwdHhaNHhaWXo2SjhpeXhrVURrQm93VlRpRGZsQXZIMHFkaTVOeldTVytpcThMN2o3Ny9RZzc3LzZXa2oxSnZ4R2tCVE90Rk9wVjlzYUd3PT06\n"
     ]
    }
   ],
   "source": [
    "import requests\n",
    "from base64 import b64encode\n",
    "import json\n",
    "import pandas as pd\n",
    "from datetime import datetime, date, timedelta\n",
    "\n",
    "import sys\n",
    "import yaml as yml\n",
    "import pyodbc as cnn\n",
    "\n",
    "import re\n",
    "from dateutil.relativedelta import relativedelta\n",
    "from tqdm import tqdm, trange\n",
    "   \n",
    "apikey = \"fz/ocDZn9rHm9ZAupGsDNjoBZGSnHO+8vmU/xWiPPvvFzPE0STJnTbnvu6/FvyOpUhp/TBu0txZ4xZYz6J8iyxkUDkBowVTiDflAvH0qdi5NzWSW+iq8L7j77/Qg77/6Wkj1JvxGkBTOtFOpV9saGw==\"\n",
    "clientId = \"33604187fc197c87eb8d2f553935ef8e\"\n",
    "\n",
    "page = 1\n",
    "pagesize = 1000\n",
    "\n",
    "# Encode the credentials with base64\n",
    "username = apikey\n",
    "password = ''\n",
    "encoded_credentials = b64encode(bytes(f'{username}:{password}',encoding='ascii')).decode('ascii')\n",
    "\n",
    "# Use Basic Authorization\n",
    "auth_header = f'Basic {encoded_credentials}'\n",
    "print(f'Auth header: {auth_header}')"
   ]
  },
  {
   "cell_type": "code",
   "execution_count": 21,
   "metadata": {},
   "outputs": [
    {
     "data": {
      "text/html": [
       "<div>\n",
       "<style scoped>\n",
       "    .dataframe tbody tr th:only-of-type {\n",
       "        vertical-align: middle;\n",
       "    }\n",
       "\n",
       "    .dataframe tbody tr th {\n",
       "        vertical-align: top;\n",
       "    }\n",
       "\n",
       "    .dataframe thead th {\n",
       "        text-align: right;\n",
       "    }\n",
       "</style>\n",
       "<table border=\"1\" class=\"dataframe\">\n",
       "  <thead>\n",
       "    <tr style=\"text-align: right;\">\n",
       "      <th></th>\n",
       "      <th>Name</th>\n",
       "      <th>FromName</th>\n",
       "      <th>FromEmail</th>\n",
       "      <th>ReplyTo</th>\n",
       "      <th>SentDate</th>\n",
       "      <th>TotalRecipients</th>\n",
       "      <th>CampaignID</th>\n",
       "      <th>Subject</th>\n",
       "      <th>WebVersionURL</th>\n",
       "      <th>WebVersionTextURL</th>\n",
       "    </tr>\n",
       "  </thead>\n",
       "  <tbody>\n",
       "    <tr>\n",
       "      <td>0</td>\n",
       "      <td>Tin's School Fund Campaign</td>\n",
       "      <td>Tin</td>\n",
       "      <td>hninpwint.tin@student.uts.edu.au</td>\n",
       "      <td>hninpwint.tin@student.uts.edu.au</td>\n",
       "      <td>2020-12-08 16:30:00</td>\n",
       "      <td>5</td>\n",
       "      <td>8fd3ba6bd1dd1d58ce10cd28a12f3795</td>\n",
       "      <td>Tin's School Fund Campaign</td>\n",
       "      <td>http://createsend.com/t/t-2792275A54D1EB4C2540...</td>\n",
       "      <td>http://createsend.com/t/t-2792275A54D1EB4C2540...</td>\n",
       "    </tr>\n",
       "    <tr>\n",
       "      <td>1</td>\n",
       "      <td>Tin's Test Campaign for Breakfast</td>\n",
       "      <td>Tin</td>\n",
       "      <td>hninpwint.tin@student.uts.edu.au</td>\n",
       "      <td>hninpwint.tin@student.uts.edu.au</td>\n",
       "      <td>2020-12-07 14:20:00</td>\n",
       "      <td>3</td>\n",
       "      <td>319f7bddfdce8c093e96c39726e62048</td>\n",
       "      <td>Tin's Test Campaign</td>\n",
       "      <td>http://createsend.com/t/t-8398EA282987899E2540...</td>\n",
       "      <td>http://createsend.com/t/t-8398EA282987899E2540...</td>\n",
       "    </tr>\n",
       "    <tr>\n",
       "      <td>2</td>\n",
       "      <td>Breakfast for Students Campaign</td>\n",
       "      <td>Tin</td>\n",
       "      <td>hninpwint.tin@student.uts.edu.au</td>\n",
       "      <td>hninpwint.tin@student.uts.edu.au</td>\n",
       "      <td>2020-12-01 17:37:00</td>\n",
       "      <td>1</td>\n",
       "      <td>7fac9427e46cd56cf13fed5c723d7801</td>\n",
       "      <td>Tin's Campaign</td>\n",
       "      <td>http://createsend.com/t/t-B4D1C2432919123A2540...</td>\n",
       "      <td>http://createsend.com/t/t-B4D1C2432919123A2540...</td>\n",
       "    </tr>\n",
       "  </tbody>\n",
       "</table>\n",
       "</div>"
      ],
      "text/plain": [
       "                                Name FromName  \\\n",
       "0         Tin's School Fund Campaign      Tin   \n",
       "1  Tin's Test Campaign for Breakfast      Tin   \n",
       "2    Breakfast for Students Campaign      Tin   \n",
       "\n",
       "                          FromEmail                           ReplyTo  \\\n",
       "0  hninpwint.tin@student.uts.edu.au  hninpwint.tin@student.uts.edu.au   \n",
       "1  hninpwint.tin@student.uts.edu.au  hninpwint.tin@student.uts.edu.au   \n",
       "2  hninpwint.tin@student.uts.edu.au  hninpwint.tin@student.uts.edu.au   \n",
       "\n",
       "              SentDate  TotalRecipients                        CampaignID  \\\n",
       "0  2020-12-08 16:30:00                5  8fd3ba6bd1dd1d58ce10cd28a12f3795   \n",
       "1  2020-12-07 14:20:00                3  319f7bddfdce8c093e96c39726e62048   \n",
       "2  2020-12-01 17:37:00                1  7fac9427e46cd56cf13fed5c723d7801   \n",
       "\n",
       "                      Subject  \\\n",
       "0  Tin's School Fund Campaign   \n",
       "1         Tin's Test Campaign   \n",
       "2              Tin's Campaign   \n",
       "\n",
       "                                       WebVersionURL  \\\n",
       "0  http://createsend.com/t/t-2792275A54D1EB4C2540...   \n",
       "1  http://createsend.com/t/t-8398EA282987899E2540...   \n",
       "2  http://createsend.com/t/t-B4D1C2432919123A2540...   \n",
       "\n",
       "                                   WebVersionTextURL  \n",
       "0  http://createsend.com/t/t-2792275A54D1EB4C2540...  \n",
       "1  http://createsend.com/t/t-8398EA282987899E2540...  \n",
       "2  http://createsend.com/t/t-B4D1C2432919123A2540...  "
      ]
     },
     "execution_count": 21,
     "metadata": {},
     "output_type": "execute_result"
    }
   ],
   "source": [
    "########## Get the Sent Campaigns #########\n",
    "# Get the Campaign Id from this API for future campaign - related API\n",
    "campaign_detail_url = f'https://api.createsend.com/api/v3.2/clients/{clientId}/campaigns.json'\n",
    "response = requests.get(campaign_detail_url, headers={'Authorization': auth_header } ) \n",
    "response_campaign_list = response.json()\n",
    "df_campaign_list = pd.DataFrame.from_dict(response_campaign_list)\n",
    "df_campaign_list.head()"
   ]
  },
  {
   "cell_type": "markdown",
   "metadata": {},
   "source": [
    "# Filter out the Sent Campaigns older than 4 months"
   ]
  },
  {
   "cell_type": "code",
   "execution_count": 22,
   "metadata": {},
   "outputs": [],
   "source": [
    "def get_datetime_Ndays_ago(n):\n",
    "    N_days_ago_datetime = datetime.now() - timedelta(days=n)\n",
    "    return N_days_ago_datetime.strftime(\"%Y-%m-%d %H:%M\")"
   ]
  },
  {
   "cell_type": "code",
   "execution_count": 23,
   "metadata": {},
   "outputs": [
    {
     "data": {
      "text/html": [
       "<div>\n",
       "<style scoped>\n",
       "    .dataframe tbody tr th:only-of-type {\n",
       "        vertical-align: middle;\n",
       "    }\n",
       "\n",
       "    .dataframe tbody tr th {\n",
       "        vertical-align: top;\n",
       "    }\n",
       "\n",
       "    .dataframe thead th {\n",
       "        text-align: right;\n",
       "    }\n",
       "</style>\n",
       "<table border=\"1\" class=\"dataframe\">\n",
       "  <thead>\n",
       "    <tr style=\"text-align: right;\">\n",
       "      <th></th>\n",
       "      <th>Name</th>\n",
       "      <th>FromName</th>\n",
       "      <th>FromEmail</th>\n",
       "      <th>ReplyTo</th>\n",
       "      <th>SentDate</th>\n",
       "      <th>TotalRecipients</th>\n",
       "      <th>CampaignID</th>\n",
       "      <th>Subject</th>\n",
       "      <th>WebVersionURL</th>\n",
       "      <th>WebVersionTextURL</th>\n",
       "    </tr>\n",
       "  </thead>\n",
       "  <tbody>\n",
       "    <tr>\n",
       "      <td>0</td>\n",
       "      <td>Tin's School Fund Campaign</td>\n",
       "      <td>Tin</td>\n",
       "      <td>hninpwint.tin@student.uts.edu.au</td>\n",
       "      <td>hninpwint.tin@student.uts.edu.au</td>\n",
       "      <td>2020-12-08 16:30:00</td>\n",
       "      <td>5</td>\n",
       "      <td>8fd3ba6bd1dd1d58ce10cd28a12f3795</td>\n",
       "      <td>Tin's School Fund Campaign</td>\n",
       "      <td>http://createsend.com/t/t-2792275A54D1EB4C2540...</td>\n",
       "      <td>http://createsend.com/t/t-2792275A54D1EB4C2540...</td>\n",
       "    </tr>\n",
       "    <tr>\n",
       "      <td>1</td>\n",
       "      <td>Tin's Test Campaign for Breakfast</td>\n",
       "      <td>Tin</td>\n",
       "      <td>hninpwint.tin@student.uts.edu.au</td>\n",
       "      <td>hninpwint.tin@student.uts.edu.au</td>\n",
       "      <td>2020-12-07 14:20:00</td>\n",
       "      <td>3</td>\n",
       "      <td>319f7bddfdce8c093e96c39726e62048</td>\n",
       "      <td>Tin's Test Campaign</td>\n",
       "      <td>http://createsend.com/t/t-8398EA282987899E2540...</td>\n",
       "      <td>http://createsend.com/t/t-8398EA282987899E2540...</td>\n",
       "    </tr>\n",
       "    <tr>\n",
       "      <td>2</td>\n",
       "      <td>Breakfast for Students Campaign</td>\n",
       "      <td>Tin</td>\n",
       "      <td>hninpwint.tin@student.uts.edu.au</td>\n",
       "      <td>hninpwint.tin@student.uts.edu.au</td>\n",
       "      <td>2020-12-01 17:37:00</td>\n",
       "      <td>1</td>\n",
       "      <td>7fac9427e46cd56cf13fed5c723d7801</td>\n",
       "      <td>Tin's Campaign</td>\n",
       "      <td>http://createsend.com/t/t-B4D1C2432919123A2540...</td>\n",
       "      <td>http://createsend.com/t/t-B4D1C2432919123A2540...</td>\n",
       "    </tr>\n",
       "  </tbody>\n",
       "</table>\n",
       "</div>"
      ],
      "text/plain": [
       "                                Name FromName  \\\n",
       "0         Tin's School Fund Campaign      Tin   \n",
       "1  Tin's Test Campaign for Breakfast      Tin   \n",
       "2    Breakfast for Students Campaign      Tin   \n",
       "\n",
       "                          FromEmail                           ReplyTo  \\\n",
       "0  hninpwint.tin@student.uts.edu.au  hninpwint.tin@student.uts.edu.au   \n",
       "1  hninpwint.tin@student.uts.edu.au  hninpwint.tin@student.uts.edu.au   \n",
       "2  hninpwint.tin@student.uts.edu.au  hninpwint.tin@student.uts.edu.au   \n",
       "\n",
       "              SentDate  TotalRecipients                        CampaignID  \\\n",
       "0  2020-12-08 16:30:00                5  8fd3ba6bd1dd1d58ce10cd28a12f3795   \n",
       "1  2020-12-07 14:20:00                3  319f7bddfdce8c093e96c39726e62048   \n",
       "2  2020-12-01 17:37:00                1  7fac9427e46cd56cf13fed5c723d7801   \n",
       "\n",
       "                      Subject  \\\n",
       "0  Tin's School Fund Campaign   \n",
       "1         Tin's Test Campaign   \n",
       "2              Tin's Campaign   \n",
       "\n",
       "                                       WebVersionURL  \\\n",
       "0  http://createsend.com/t/t-2792275A54D1EB4C2540...   \n",
       "1  http://createsend.com/t/t-8398EA282987899E2540...   \n",
       "2  http://createsend.com/t/t-B4D1C2432919123A2540...   \n",
       "\n",
       "                                   WebVersionTextURL  \n",
       "0  http://createsend.com/t/t-2792275A54D1EB4C2540...  \n",
       "1  http://createsend.com/t/t-8398EA282987899E2540...  \n",
       "2  http://createsend.com/t/t-B4D1C2432919123A2540...  "
      ]
     },
     "execution_count": 23,
     "metadata": {},
     "output_type": "execute_result"
    }
   ],
   "source": [
    "### Filter date should come from config file, 120 days equivalent to 4 months\n",
    "active_campaign_day = 120\n",
    "active_period = get_datetime_Ndays_ago (active_campaign_day)\n",
    "\n",
    "all_active_campaign = df_campaign_list['SentDate'] > active_period \n",
    "campaigns_on_active_period = df_campaign_list.loc[all_active_campaign]\n",
    "\n",
    "campaigns_on_active_period"
   ]
  },
  {
   "cell_type": "markdown",
   "metadata": {},
   "source": [
    "### API Requests in Iteration"
   ]
  },
  {
   "cell_type": "code",
   "execution_count": 33,
   "metadata": {},
   "outputs": [
    {
     "name": "stdout",
     "output_type": "stream",
     "text": [
      "Total Number of Records (0, 0)\n"
     ]
    }
   ],
   "source": [
    "campaingn_clicks_dataset = pd.DataFrame()\n",
    "all_records = []\n",
    "n_past_days = 120\n",
    "params = {\"page\": page, \"pagesize\": pagesize, \"orderfield\": \"email\", \"orderdirection\": \"asc\" }\n",
    "#desired_columns = [\"campaignId\", \"EmailAddress\", \"Date\", \"CountryCode\", \"ListID\"]\n",
    "desired_columns = [\"campaignId\", \"EmailAddress\", \"Date\"]\n",
    "\n",
    "for campaign_id in campaigns_on_active_period[\"CampaignID\"]:\n",
    "\n",
    "    url_campaign_clicks = f\"https://api.createsend.com/api/v3.2/campaigns/{campaign_id}/clicks.json\"\n",
    "    df_campaign_email_clicks = pd.DataFrame()\n",
    "    for x in range(n_past_days):\n",
    "        \n",
    "         N_days_ago_datetime = get_datetime_Ndays_ago(x)\n",
    "         # Pass N days if not full load\n",
    "         params[\"date\"] = N_days_ago_datetime\n",
    "         response = requests.get(url_campaign_clicks, headers={'Authorization': auth_header }, params = params) \n",
    "         #print(response.json())\n",
    "         response_campaign_clicks = response.json()\n",
    "         if(len(response_campaign_clicks[\"Results\"]) == 0): continue\n",
    "         #print(\"Data exists\")\n",
    "         response_dataframe = pd.DataFrame.from_dict(response_campaign_clicks[\"Results\"])\n",
    "         response_dataframe[\"campaignId\"] = campaign_id\n",
    "         \n",
    "         df_campaign_email_clicks = df_campaign_email_clicks.append(response_dataframe, ignore_index=True, sort=False) \n",
    "         \n",
    "    \n",
    "    all_records.append(df_campaign_email_clicks)\n",
    "    \n",
    "\n",
    "#print(\"All record length\", len(all_records))\n",
    "# if(len(all_records) > 0):\n",
    "#     campaingn_clicks_dataset = pd.concat(all_records, axis=0, ignore_index=True, sort=False) \n",
    "#     campaingn_clicks_dataset = campaingn_clicks_dataset[desired_columns]\n",
    "#     campaingn_clicks_dataset = campaingn_clicks_dataset.drop_duplicates()\n",
    "\n",
    "\n",
    "print(\"Total Number of Records\", campaingn_clicks_dataset.shape)"
   ]
  },
  {
   "cell_type": "code",
   "execution_count": 39,
   "metadata": {},
   "outputs": [
    {
     "data": {
      "text/html": [
       "<div>\n",
       "<style scoped>\n",
       "    .dataframe tbody tr th:only-of-type {\n",
       "        vertical-align: middle;\n",
       "    }\n",
       "\n",
       "    .dataframe tbody tr th {\n",
       "        vertical-align: top;\n",
       "    }\n",
       "\n",
       "    .dataframe thead th {\n",
       "        text-align: right;\n",
       "    }\n",
       "</style>\n",
       "<table border=\"1\" class=\"dataframe\">\n",
       "  <thead>\n",
       "    <tr style=\"text-align: right;\">\n",
       "      <th></th>\n",
       "      <th>campaignId</th>\n",
       "      <th>EmailAddress</th>\n",
       "      <th>Date</th>\n",
       "    </tr>\n",
       "  </thead>\n",
       "  <tbody>\n",
       "    <tr>\n",
       "      <td>0</td>\n",
       "      <td>7fac9427e46cd56cf13fed5c723d7801</td>\n",
       "      <td>deepuinuk@gmail.com</td>\n",
       "      <td>2020-12-01 17:40:00</td>\n",
       "    </tr>\n",
       "  </tbody>\n",
       "</table>\n",
       "</div>"
      ],
      "text/plain": [
       "                         campaignId         EmailAddress                 Date\n",
       "0  7fac9427e46cd56cf13fed5c723d7801  deepuinuk@gmail.com  2020-12-01 17:40:00"
      ]
     },
     "execution_count": 39,
     "metadata": {},
     "output_type": "execute_result"
    }
   ],
   "source": [
    "## Print The final dataframe\n",
    "#print(\"Total Number of Records\", campaingn_clicks_dataset.shape)\n",
    "#campaingn_clicks_dataset\n",
    "#all_records.drop_duplicates()\n",
    "len(campaingn_clicks_dataset.index)\n",
    "df_clicks = df_campaign_email_clicks[desired_columns]\n",
    "df_clicks = df_clicks.drop_duplicates()\n",
    "df_clicks"
   ]
  },
  {
   "cell_type": "code",
   "execution_count": 41,
   "metadata": {},
   "outputs": [
    {
     "data": {
      "text/html": [
       "<div>\n",
       "<style scoped>\n",
       "    .dataframe tbody tr th:only-of-type {\n",
       "        vertical-align: middle;\n",
       "    }\n",
       "\n",
       "    .dataframe tbody tr th {\n",
       "        vertical-align: top;\n",
       "    }\n",
       "\n",
       "    .dataframe thead th {\n",
       "        text-align: right;\n",
       "    }\n",
       "</style>\n",
       "<table border=\"1\" class=\"dataframe\">\n",
       "  <thead>\n",
       "    <tr style=\"text-align: right;\">\n",
       "      <th></th>\n",
       "      <th>campaignId</th>\n",
       "      <th>EmailAddress</th>\n",
       "      <th>Date</th>\n",
       "    </tr>\n",
       "  </thead>\n",
       "  <tbody>\n",
       "    <tr>\n",
       "      <td>0</td>\n",
       "      <td>7fac9427e46cd56cf13fed5c723d7801</td>\n",
       "      <td>deepuinuk@gmail.com</td>\n",
       "      <td>2020-12-01 17:40:00</td>\n",
       "    </tr>\n",
       "  </tbody>\n",
       "</table>\n",
       "</div>"
      ],
      "text/plain": [
       "                         campaignId         EmailAddress                 Date\n",
       "0  7fac9427e46cd56cf13fed5c723d7801  deepuinuk@gmail.com  2020-12-01 17:40:00"
      ]
     },
     "execution_count": 41,
     "metadata": {},
     "output_type": "execute_result"
    }
   ],
   "source": [
    "final_data = {\"opens\": pd.DataFrame(), \n",
    "                              \"clicks\": pd.DataFrame(),\n",
    "                              \"unsubscribes\": pd.DataFrame(),\n",
    "                              \"bounces\": pd.DataFrame(),\n",
    "                              \"spam\":pd.DataFrame() }\n",
    "\n",
    "final_data[\"opens\"] = df_clicks\n",
    "final_data[\"opens\"]"
   ]
  },
  {
   "cell_type": "markdown",
   "metadata": {},
   "source": [
    "### Establish DB Connection"
   ]
  },
  {
   "cell_type": "code",
   "execution_count": 18,
   "metadata": {},
   "outputs": [
    {
     "ename": "ParserError",
     "evalue": "while parsing a block mapping\n  in \"dbconfig.yaml\", line 1, column 1\nexpected <block end>, but found '<block mapping start>'\n  in \"dbconfig.yaml\", line 40, column 2",
     "output_type": "error",
     "traceback": [
      "\u001b[1;31m---------------------------------------------------------------------------\u001b[0m",
      "\u001b[1;31mParserError\u001b[0m                               Traceback (most recent call last)",
      "\u001b[1;32m<ipython-input-18-0a6b82eab19d>\u001b[0m in \u001b[0;36m<module>\u001b[1;34m\u001b[0m\n\u001b[0;32m      8\u001b[0m \u001b[1;31m# Open the config file\u001b[0m\u001b[1;33m\u001b[0m\u001b[1;33m\u001b[0m\u001b[1;33m\u001b[0m\u001b[0m\n\u001b[0;32m      9\u001b[0m \u001b[1;32mwith\u001b[0m \u001b[0mopen\u001b[0m\u001b[1;33m(\u001b[0m\u001b[1;34mr'dbconfig.yaml'\u001b[0m\u001b[1;33m)\u001b[0m \u001b[1;32mas\u001b[0m \u001b[0mfile\u001b[0m\u001b[1;33m:\u001b[0m\u001b[1;33m\u001b[0m\u001b[1;33m\u001b[0m\u001b[0m\n\u001b[1;32m---> 10\u001b[1;33m     \u001b[0mconfig\u001b[0m \u001b[1;33m=\u001b[0m \u001b[0myml\u001b[0m\u001b[1;33m.\u001b[0m\u001b[0mfull_load\u001b[0m\u001b[1;33m(\u001b[0m\u001b[0mfile\u001b[0m\u001b[1;33m)\u001b[0m\u001b[1;33m\u001b[0m\u001b[1;33m\u001b[0m\u001b[0m\n\u001b[0m\u001b[0;32m     11\u001b[0m \u001b[1;33m\u001b[0m\u001b[0m\n\u001b[0;32m     12\u001b[0m \u001b[1;31m# Establish the connection with database server\u001b[0m\u001b[1;33m\u001b[0m\u001b[1;33m\u001b[0m\u001b[1;33m\u001b[0m\u001b[0m\n",
      "\u001b[1;32mC:\\Hnin\\Anaconda3\\lib\\site-packages\\yaml\\__init__.py\u001b[0m in \u001b[0;36mfull_load\u001b[1;34m(stream)\u001b[0m\n\u001b[0;32m    140\u001b[0m     \u001b[0munsafe\u001b[0m \u001b[0mon\u001b[0m \u001b[0muntrusted\u001b[0m \u001b[0minput\u001b[0m\u001b[1;33m.\u001b[0m\u001b[1;33m\u001b[0m\u001b[1;33m\u001b[0m\u001b[0m\n\u001b[0;32m    141\u001b[0m     \"\"\"\n\u001b[1;32m--> 142\u001b[1;33m     \u001b[1;32mreturn\u001b[0m \u001b[0mload\u001b[0m\u001b[1;33m(\u001b[0m\u001b[0mstream\u001b[0m\u001b[1;33m,\u001b[0m \u001b[0mFullLoader\u001b[0m\u001b[1;33m)\u001b[0m\u001b[1;33m\u001b[0m\u001b[1;33m\u001b[0m\u001b[0m\n\u001b[0m\u001b[0;32m    143\u001b[0m \u001b[1;33m\u001b[0m\u001b[0m\n\u001b[0;32m    144\u001b[0m \u001b[1;32mdef\u001b[0m \u001b[0mfull_load_all\u001b[0m\u001b[1;33m(\u001b[0m\u001b[0mstream\u001b[0m\u001b[1;33m)\u001b[0m\u001b[1;33m:\u001b[0m\u001b[1;33m\u001b[0m\u001b[1;33m\u001b[0m\u001b[0m\n",
      "\u001b[1;32mC:\\Hnin\\Anaconda3\\lib\\site-packages\\yaml\\__init__.py\u001b[0m in \u001b[0;36mload\u001b[1;34m(stream, Loader)\u001b[0m\n\u001b[0;32m    112\u001b[0m     \u001b[0mloader\u001b[0m \u001b[1;33m=\u001b[0m \u001b[0mLoader\u001b[0m\u001b[1;33m(\u001b[0m\u001b[0mstream\u001b[0m\u001b[1;33m)\u001b[0m\u001b[1;33m\u001b[0m\u001b[1;33m\u001b[0m\u001b[0m\n\u001b[0;32m    113\u001b[0m     \u001b[1;32mtry\u001b[0m\u001b[1;33m:\u001b[0m\u001b[1;33m\u001b[0m\u001b[1;33m\u001b[0m\u001b[0m\n\u001b[1;32m--> 114\u001b[1;33m         \u001b[1;32mreturn\u001b[0m \u001b[0mloader\u001b[0m\u001b[1;33m.\u001b[0m\u001b[0mget_single_data\u001b[0m\u001b[1;33m(\u001b[0m\u001b[1;33m)\u001b[0m\u001b[1;33m\u001b[0m\u001b[1;33m\u001b[0m\u001b[0m\n\u001b[0m\u001b[0;32m    115\u001b[0m     \u001b[1;32mfinally\u001b[0m\u001b[1;33m:\u001b[0m\u001b[1;33m\u001b[0m\u001b[1;33m\u001b[0m\u001b[0m\n\u001b[0;32m    116\u001b[0m         \u001b[0mloader\u001b[0m\u001b[1;33m.\u001b[0m\u001b[0mdispose\u001b[0m\u001b[1;33m(\u001b[0m\u001b[1;33m)\u001b[0m\u001b[1;33m\u001b[0m\u001b[1;33m\u001b[0m\u001b[0m\n",
      "\u001b[1;32mC:\\Hnin\\Anaconda3\\lib\\site-packages\\yaml\\constructor.py\u001b[0m in \u001b[0;36mget_single_data\u001b[1;34m(self)\u001b[0m\n\u001b[0;32m     39\u001b[0m     \u001b[1;32mdef\u001b[0m \u001b[0mget_single_data\u001b[0m\u001b[1;33m(\u001b[0m\u001b[0mself\u001b[0m\u001b[1;33m)\u001b[0m\u001b[1;33m:\u001b[0m\u001b[1;33m\u001b[0m\u001b[1;33m\u001b[0m\u001b[0m\n\u001b[0;32m     40\u001b[0m         \u001b[1;31m# Ensure that the stream contains a single document and construct it.\u001b[0m\u001b[1;33m\u001b[0m\u001b[1;33m\u001b[0m\u001b[1;33m\u001b[0m\u001b[0m\n\u001b[1;32m---> 41\u001b[1;33m         \u001b[0mnode\u001b[0m \u001b[1;33m=\u001b[0m \u001b[0mself\u001b[0m\u001b[1;33m.\u001b[0m\u001b[0mget_single_node\u001b[0m\u001b[1;33m(\u001b[0m\u001b[1;33m)\u001b[0m\u001b[1;33m\u001b[0m\u001b[1;33m\u001b[0m\u001b[0m\n\u001b[0m\u001b[0;32m     42\u001b[0m         \u001b[1;32mif\u001b[0m \u001b[0mnode\u001b[0m \u001b[1;32mis\u001b[0m \u001b[1;32mnot\u001b[0m \u001b[1;32mNone\u001b[0m\u001b[1;33m:\u001b[0m\u001b[1;33m\u001b[0m\u001b[1;33m\u001b[0m\u001b[0m\n\u001b[0;32m     43\u001b[0m             \u001b[1;32mreturn\u001b[0m \u001b[0mself\u001b[0m\u001b[1;33m.\u001b[0m\u001b[0mconstruct_document\u001b[0m\u001b[1;33m(\u001b[0m\u001b[0mnode\u001b[0m\u001b[1;33m)\u001b[0m\u001b[1;33m\u001b[0m\u001b[1;33m\u001b[0m\u001b[0m\n",
      "\u001b[1;32mC:\\Hnin\\Anaconda3\\lib\\site-packages\\yaml\\composer.py\u001b[0m in \u001b[0;36mget_single_node\u001b[1;34m(self)\u001b[0m\n\u001b[0;32m     34\u001b[0m         \u001b[0mdocument\u001b[0m \u001b[1;33m=\u001b[0m \u001b[1;32mNone\u001b[0m\u001b[1;33m\u001b[0m\u001b[1;33m\u001b[0m\u001b[0m\n\u001b[0;32m     35\u001b[0m         \u001b[1;32mif\u001b[0m \u001b[1;32mnot\u001b[0m \u001b[0mself\u001b[0m\u001b[1;33m.\u001b[0m\u001b[0mcheck_event\u001b[0m\u001b[1;33m(\u001b[0m\u001b[0mStreamEndEvent\u001b[0m\u001b[1;33m)\u001b[0m\u001b[1;33m:\u001b[0m\u001b[1;33m\u001b[0m\u001b[1;33m\u001b[0m\u001b[0m\n\u001b[1;32m---> 36\u001b[1;33m             \u001b[0mdocument\u001b[0m \u001b[1;33m=\u001b[0m \u001b[0mself\u001b[0m\u001b[1;33m.\u001b[0m\u001b[0mcompose_document\u001b[0m\u001b[1;33m(\u001b[0m\u001b[1;33m)\u001b[0m\u001b[1;33m\u001b[0m\u001b[1;33m\u001b[0m\u001b[0m\n\u001b[0m\u001b[0;32m     37\u001b[0m \u001b[1;33m\u001b[0m\u001b[0m\n\u001b[0;32m     38\u001b[0m         \u001b[1;31m# Ensure that the stream contains no more documents.\u001b[0m\u001b[1;33m\u001b[0m\u001b[1;33m\u001b[0m\u001b[1;33m\u001b[0m\u001b[0m\n",
      "\u001b[1;32mC:\\Hnin\\Anaconda3\\lib\\site-packages\\yaml\\composer.py\u001b[0m in \u001b[0;36mcompose_document\u001b[1;34m(self)\u001b[0m\n\u001b[0;32m     53\u001b[0m \u001b[1;33m\u001b[0m\u001b[0m\n\u001b[0;32m     54\u001b[0m         \u001b[1;31m# Compose the root node.\u001b[0m\u001b[1;33m\u001b[0m\u001b[1;33m\u001b[0m\u001b[1;33m\u001b[0m\u001b[0m\n\u001b[1;32m---> 55\u001b[1;33m         \u001b[0mnode\u001b[0m \u001b[1;33m=\u001b[0m \u001b[0mself\u001b[0m\u001b[1;33m.\u001b[0m\u001b[0mcompose_node\u001b[0m\u001b[1;33m(\u001b[0m\u001b[1;32mNone\u001b[0m\u001b[1;33m,\u001b[0m \u001b[1;32mNone\u001b[0m\u001b[1;33m)\u001b[0m\u001b[1;33m\u001b[0m\u001b[1;33m\u001b[0m\u001b[0m\n\u001b[0m\u001b[0;32m     56\u001b[0m \u001b[1;33m\u001b[0m\u001b[0m\n\u001b[0;32m     57\u001b[0m         \u001b[1;31m# Drop the DOCUMENT-END event.\u001b[0m\u001b[1;33m\u001b[0m\u001b[1;33m\u001b[0m\u001b[1;33m\u001b[0m\u001b[0m\n",
      "\u001b[1;32mC:\\Hnin\\Anaconda3\\lib\\site-packages\\yaml\\composer.py\u001b[0m in \u001b[0;36mcompose_node\u001b[1;34m(self, parent, index)\u001b[0m\n\u001b[0;32m     82\u001b[0m             \u001b[0mnode\u001b[0m \u001b[1;33m=\u001b[0m \u001b[0mself\u001b[0m\u001b[1;33m.\u001b[0m\u001b[0mcompose_sequence_node\u001b[0m\u001b[1;33m(\u001b[0m\u001b[0manchor\u001b[0m\u001b[1;33m)\u001b[0m\u001b[1;33m\u001b[0m\u001b[1;33m\u001b[0m\u001b[0m\n\u001b[0;32m     83\u001b[0m         \u001b[1;32melif\u001b[0m \u001b[0mself\u001b[0m\u001b[1;33m.\u001b[0m\u001b[0mcheck_event\u001b[0m\u001b[1;33m(\u001b[0m\u001b[0mMappingStartEvent\u001b[0m\u001b[1;33m)\u001b[0m\u001b[1;33m:\u001b[0m\u001b[1;33m\u001b[0m\u001b[1;33m\u001b[0m\u001b[0m\n\u001b[1;32m---> 84\u001b[1;33m             \u001b[0mnode\u001b[0m \u001b[1;33m=\u001b[0m \u001b[0mself\u001b[0m\u001b[1;33m.\u001b[0m\u001b[0mcompose_mapping_node\u001b[0m\u001b[1;33m(\u001b[0m\u001b[0manchor\u001b[0m\u001b[1;33m)\u001b[0m\u001b[1;33m\u001b[0m\u001b[1;33m\u001b[0m\u001b[0m\n\u001b[0m\u001b[0;32m     85\u001b[0m         \u001b[0mself\u001b[0m\u001b[1;33m.\u001b[0m\u001b[0mascend_resolver\u001b[0m\u001b[1;33m(\u001b[0m\u001b[1;33m)\u001b[0m\u001b[1;33m\u001b[0m\u001b[1;33m\u001b[0m\u001b[0m\n\u001b[0;32m     86\u001b[0m         \u001b[1;32mreturn\u001b[0m \u001b[0mnode\u001b[0m\u001b[1;33m\u001b[0m\u001b[1;33m\u001b[0m\u001b[0m\n",
      "\u001b[1;32mC:\\Hnin\\Anaconda3\\lib\\site-packages\\yaml\\composer.py\u001b[0m in \u001b[0;36mcompose_mapping_node\u001b[1;34m(self, anchor)\u001b[0m\n\u001b[0;32m    125\u001b[0m         \u001b[1;32mif\u001b[0m \u001b[0manchor\u001b[0m \u001b[1;32mis\u001b[0m \u001b[1;32mnot\u001b[0m \u001b[1;32mNone\u001b[0m\u001b[1;33m:\u001b[0m\u001b[1;33m\u001b[0m\u001b[1;33m\u001b[0m\u001b[0m\n\u001b[0;32m    126\u001b[0m             \u001b[0mself\u001b[0m\u001b[1;33m.\u001b[0m\u001b[0manchors\u001b[0m\u001b[1;33m[\u001b[0m\u001b[0manchor\u001b[0m\u001b[1;33m]\u001b[0m \u001b[1;33m=\u001b[0m \u001b[0mnode\u001b[0m\u001b[1;33m\u001b[0m\u001b[1;33m\u001b[0m\u001b[0m\n\u001b[1;32m--> 127\u001b[1;33m         \u001b[1;32mwhile\u001b[0m \u001b[1;32mnot\u001b[0m \u001b[0mself\u001b[0m\u001b[1;33m.\u001b[0m\u001b[0mcheck_event\u001b[0m\u001b[1;33m(\u001b[0m\u001b[0mMappingEndEvent\u001b[0m\u001b[1;33m)\u001b[0m\u001b[1;33m:\u001b[0m\u001b[1;33m\u001b[0m\u001b[1;33m\u001b[0m\u001b[0m\n\u001b[0m\u001b[0;32m    128\u001b[0m             \u001b[1;31m#key_event = self.peek_event()\u001b[0m\u001b[1;33m\u001b[0m\u001b[1;33m\u001b[0m\u001b[1;33m\u001b[0m\u001b[0m\n\u001b[0;32m    129\u001b[0m             \u001b[0mitem_key\u001b[0m \u001b[1;33m=\u001b[0m \u001b[0mself\u001b[0m\u001b[1;33m.\u001b[0m\u001b[0mcompose_node\u001b[0m\u001b[1;33m(\u001b[0m\u001b[0mnode\u001b[0m\u001b[1;33m,\u001b[0m \u001b[1;32mNone\u001b[0m\u001b[1;33m)\u001b[0m\u001b[1;33m\u001b[0m\u001b[1;33m\u001b[0m\u001b[0m\n",
      "\u001b[1;32mC:\\Hnin\\Anaconda3\\lib\\site-packages\\yaml\\parser.py\u001b[0m in \u001b[0;36mcheck_event\u001b[1;34m(self, *choices)\u001b[0m\n\u001b[0;32m     96\u001b[0m         \u001b[1;32mif\u001b[0m \u001b[0mself\u001b[0m\u001b[1;33m.\u001b[0m\u001b[0mcurrent_event\u001b[0m \u001b[1;32mis\u001b[0m \u001b[1;32mNone\u001b[0m\u001b[1;33m:\u001b[0m\u001b[1;33m\u001b[0m\u001b[1;33m\u001b[0m\u001b[0m\n\u001b[0;32m     97\u001b[0m             \u001b[1;32mif\u001b[0m \u001b[0mself\u001b[0m\u001b[1;33m.\u001b[0m\u001b[0mstate\u001b[0m\u001b[1;33m:\u001b[0m\u001b[1;33m\u001b[0m\u001b[1;33m\u001b[0m\u001b[0m\n\u001b[1;32m---> 98\u001b[1;33m                 \u001b[0mself\u001b[0m\u001b[1;33m.\u001b[0m\u001b[0mcurrent_event\u001b[0m \u001b[1;33m=\u001b[0m \u001b[0mself\u001b[0m\u001b[1;33m.\u001b[0m\u001b[0mstate\u001b[0m\u001b[1;33m(\u001b[0m\u001b[1;33m)\u001b[0m\u001b[1;33m\u001b[0m\u001b[1;33m\u001b[0m\u001b[0m\n\u001b[0m\u001b[0;32m     99\u001b[0m         \u001b[1;32mif\u001b[0m \u001b[0mself\u001b[0m\u001b[1;33m.\u001b[0m\u001b[0mcurrent_event\u001b[0m \u001b[1;32mis\u001b[0m \u001b[1;32mnot\u001b[0m \u001b[1;32mNone\u001b[0m\u001b[1;33m:\u001b[0m\u001b[1;33m\u001b[0m\u001b[1;33m\u001b[0m\u001b[0m\n\u001b[0;32m    100\u001b[0m             \u001b[1;32mif\u001b[0m \u001b[1;32mnot\u001b[0m \u001b[0mchoices\u001b[0m\u001b[1;33m:\u001b[0m\u001b[1;33m\u001b[0m\u001b[1;33m\u001b[0m\u001b[0m\n",
      "\u001b[1;32mC:\\Hnin\\Anaconda3\\lib\\site-packages\\yaml\\parser.py\u001b[0m in \u001b[0;36mparse_block_mapping_key\u001b[1;34m(self)\u001b[0m\n\u001b[0;32m    437\u001b[0m             \u001b[0mtoken\u001b[0m \u001b[1;33m=\u001b[0m \u001b[0mself\u001b[0m\u001b[1;33m.\u001b[0m\u001b[0mpeek_token\u001b[0m\u001b[1;33m(\u001b[0m\u001b[1;33m)\u001b[0m\u001b[1;33m\u001b[0m\u001b[1;33m\u001b[0m\u001b[0m\n\u001b[0;32m    438\u001b[0m             raise ParserError(\"while parsing a block mapping\", self.marks[-1],\n\u001b[1;32m--> 439\u001b[1;33m                     \"expected <block end>, but found %r\" % token.id, token.start_mark)\n\u001b[0m\u001b[0;32m    440\u001b[0m         \u001b[0mtoken\u001b[0m \u001b[1;33m=\u001b[0m \u001b[0mself\u001b[0m\u001b[1;33m.\u001b[0m\u001b[0mget_token\u001b[0m\u001b[1;33m(\u001b[0m\u001b[1;33m)\u001b[0m\u001b[1;33m\u001b[0m\u001b[1;33m\u001b[0m\u001b[0m\n\u001b[0;32m    441\u001b[0m         \u001b[0mevent\u001b[0m \u001b[1;33m=\u001b[0m \u001b[0mMappingEndEvent\u001b[0m\u001b[1;33m(\u001b[0m\u001b[0mtoken\u001b[0m\u001b[1;33m.\u001b[0m\u001b[0mstart_mark\u001b[0m\u001b[1;33m,\u001b[0m \u001b[0mtoken\u001b[0m\u001b[1;33m.\u001b[0m\u001b[0mend_mark\u001b[0m\u001b[1;33m)\u001b[0m\u001b[1;33m\u001b[0m\u001b[1;33m\u001b[0m\u001b[0m\n",
      "\u001b[1;31mParserError\u001b[0m: while parsing a block mapping\n  in \"dbconfig.yaml\", line 1, column 1\nexpected <block end>, but found '<block mapping start>'\n  in \"dbconfig.yaml\", line 40, column 2"
     ]
    }
   ],
   "source": [
    "def insert_to_db(row, cursor):\n",
    "    cursor.execute('  INSERT  INTO '\n",
    "                   '          campaign_email_clicks '\n",
    "                   '          (campaign_id, email_address, date_clicked )'\n",
    "                   '  VALUES   (?,?,?)',\n",
    "                   row['campaignId'], row['EmailAddress'], row['Date'])\n",
    "    \n",
    "# Open the config file\n",
    "with open(r'dbconfig.yaml') as file:\n",
    "    config = yml.full_load(file)\n",
    "\n",
    "# Establish the connection with database server\n",
    "conn = cnn.connect('DRIVER='+config['instances']['driver']+\n",
    "                   ';SERVER='+config['instances']['servername']+\n",
    "                   ';DATABASE='+config['instances']['database']+\n",
    "                   ';UID='+config['instances']['username']+\n",
    "                   ';PWD='+config['instances']['password'])\n",
    "\n",
    "conn.autocommit = False\n",
    "\n",
    "#check loading configuration\n",
    "#METHOD: full/incremental\n",
    "cfg_load_method = config['loading']['method']"
   ]
  },
  {
   "cell_type": "markdown",
   "metadata": {},
   "source": [
    "### Insert  API Data into Database, Table -  'campaign_email_clicks'"
   ]
  },
  {
   "cell_type": "code",
   "execution_count": 15,
   "metadata": {},
   "outputs": [],
   "source": [
    "\n",
    "### This should be UPDATE #####\n",
    "cursor = conn.cursor()\n",
    "\n",
    "try:\n",
    "    #if full-load, delete all the records from the table\n",
    "    if (cfg_load_method == 'full'):\n",
    "        cursor.execute('DELETE FROM campaign_email_clicks')\n",
    "    \n",
    "    #insert dataframe to DB\n",
    "    campaingn_clicks_dataset.apply(insert_to_db, cursor = cursor, axis = 1)\n",
    "      \n",
    "    conn.commit()\n",
    "except:\n",
    "    conn.rollback()\n",
    "    print(sys.exc_info())\n",
    "finally:  \n",
    "    cursor.close()"
   ]
  },
  {
   "cell_type": "markdown",
   "metadata": {},
   "source": [
    "### Testing the result"
   ]
  },
  {
   "cell_type": "code",
   "execution_count": 16,
   "metadata": {},
   "outputs": [
    {
     "data": {
      "text/html": [
       "<div>\n",
       "<style scoped>\n",
       "    .dataframe tbody tr th:only-of-type {\n",
       "        vertical-align: middle;\n",
       "    }\n",
       "\n",
       "    .dataframe tbody tr th {\n",
       "        vertical-align: top;\n",
       "    }\n",
       "\n",
       "    .dataframe thead th {\n",
       "        text-align: right;\n",
       "    }\n",
       "</style>\n",
       "<table border=\"1\" class=\"dataframe\">\n",
       "  <thead>\n",
       "    <tr style=\"text-align: right;\">\n",
       "      <th></th>\n",
       "      <th>campaignId</th>\n",
       "      <th>EmailAddress</th>\n",
       "      <th>Date</th>\n",
       "    </tr>\n",
       "    <tr>\n",
       "      <th>campaignId</th>\n",
       "      <th></th>\n",
       "      <th></th>\n",
       "      <th></th>\n",
       "    </tr>\n",
       "  </thead>\n",
       "  <tbody>\n",
       "    <tr>\n",
       "      <td>319f7bddfdce8c093e96c39726e62048</td>\n",
       "      <td>1</td>\n",
       "      <td>1</td>\n",
       "      <td>1</td>\n",
       "    </tr>\n",
       "    <tr>\n",
       "      <td>7fac9427e46cd56cf13fed5c723d7801</td>\n",
       "      <td>1</td>\n",
       "      <td>1</td>\n",
       "      <td>1</td>\n",
       "    </tr>\n",
       "  </tbody>\n",
       "</table>\n",
       "</div>"
      ],
      "text/plain": [
       "                                  campaignId  EmailAddress  Date\n",
       "campaignId                                                      \n",
       "319f7bddfdce8c093e96c39726e62048           1             1     1\n",
       "7fac9427e46cd56cf13fed5c723d7801           1             1     1"
      ]
     },
     "execution_count": 16,
     "metadata": {},
     "output_type": "execute_result"
    }
   ],
   "source": [
    "#### Testing the result #####\n",
    "campaingn_clicks_dataset.groupby(\"campaignId\")['EmailAddress'].count().reset_index()\n",
    "   \n",
    "### Print the number of unique values in each columns\n",
    "campaingn_clicks_dataset.groupby('campaignId').nunique()"
   ]
  }
 ],
 "metadata": {
  "kernelspec": {
   "display_name": "Python 3",
   "language": "python",
   "name": "python3"
  },
  "language_info": {
   "codemirror_mode": {
    "name": "ipython",
    "version": 3
   },
   "file_extension": ".py",
   "mimetype": "text/x-python",
   "name": "python",
   "nbconvert_exporter": "python",
   "pygments_lexer": "ipython3",
   "version": "3.6.9"
  }
 },
 "nbformat": 4,
 "nbformat_minor": 2
}
