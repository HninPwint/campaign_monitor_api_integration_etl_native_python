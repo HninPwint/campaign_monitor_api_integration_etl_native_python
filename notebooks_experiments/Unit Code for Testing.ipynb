{
 "cells": [
  {
   "cell_type": "code",
   "execution_count": 2,
   "metadata": {},
   "outputs": [],
   "source": [
    "import requests\n",
    "from base64 import b64encode\n",
    "import json\n",
    "import pandas as pd\n",
    "\n",
    "import sys\n",
    "\n",
    "import pyodbc as cnn\n",
    "\n",
    "import re\n",
    "from dateutil.relativedelta import relativedelta\n",
    "from tqdm import tqdm, trange\n",
    "from datetime import datetime, timedelta"
   ]
  },
  {
   "cell_type": "markdown",
   "metadata": {},
   "source": [
    "### Current Date and Time"
   ]
  },
  {
   "cell_type": "code",
   "execution_count": 5,
   "metadata": {},
   "outputs": [
    {
     "name": "stdout",
     "output_type": "stream",
     "text": [
      "now 2020-12-14 22:08:08.384032\n",
      "current_datetime 2020-12-14 22:08\n"
     ]
    }
   ],
   "source": [
    "####### Current Date Time with Format ########\n",
    "from datetime import datetime\n",
    "now = datetime.now()\n",
    "current_datetime = now.strftime(\"%Y-%m-%d %H:%M\")\n",
    "print(\"now\", now)\n",
    "print(\"current_datetime\", current_datetime)"
   ]
  },
  {
   "cell_type": "markdown",
   "metadata": {},
   "source": [
    "### Datetime of N days ago"
   ]
  },
  {
   "cell_type": "code",
   "execution_count": 10,
   "metadata": {},
   "outputs": [
    {
     "name": "stdout",
     "output_type": "stream",
     "text": [
      "2020-12-14 22:36:13.317764\n",
      "2020-12-07 22:36\n"
     ]
    }
   ],
   "source": [
    "#### N days ago #####\n",
    "from datetime import datetime, timedelta\n",
    "n = 7\n",
    "N_days_ago_datetime = datetime.now() - timedelta(days=n)\n",
    "N_days_ago_datetime = N_days_ago_datetime.strftime(\"%Y-%m-%d %H:%M\")\n",
    "\n",
    "print(datetime.now())\n",
    "print(N_days_ago_datetime)"
   ]
  },
  {
   "cell_type": "markdown",
   "metadata": {},
   "source": [
    "### N days ago in Loop"
   ]
  },
  {
   "cell_type": "code",
   "execution_count": 17,
   "metadata": {},
   "outputs": [
    {
     "name": "stdout",
     "output_type": "stream",
     "text": [
      "2020-12-14 22:57\n",
      "2020-12-13 22:57\n",
      "2020-12-12 22:57\n",
      "2020-12-11 22:57\n",
      "2020-12-10 22:57\n",
      "2020-12-09 22:57\n",
      "2020-12-08 22:57\n"
     ]
    }
   ],
   "source": [
    "def get_datetime_Ndays_ago(n):\n",
    "    N_days_ago_datetime = datetime.now() - timedelta(days=n)\n",
    "    return N_days_ago_datetime.strftime(\"%Y-%m-%d %H:%M\")\n",
    "\n",
    "df_campaign_list = [\"8fd3ba6bd1dd1d58ce10cd28a12f3795\"]\n",
    "n_past_days = 7\n",
    "for campaign_id in df_campaign_list:  \n",
    "    for x in range(n_past_days):\n",
    "        pastdays = get_datetime_Ndays_ago(x)\n",
    "        print(pastdays)"
   ]
  },
  {
   "cell_type": "markdown",
   "metadata": {},
   "source": [
    "### Convert Json Array to Dataframe"
   ]
  },
  {
   "cell_type": "code",
   "execution_count": 4,
   "metadata": {},
   "outputs": [
    {
     "data": {
      "text/html": [
       "<div>\n",
       "<style scoped>\n",
       "    .dataframe tbody tr th:only-of-type {\n",
       "        vertical-align: middle;\n",
       "    }\n",
       "\n",
       "    .dataframe tbody tr th {\n",
       "        vertical-align: top;\n",
       "    }\n",
       "\n",
       "    .dataframe thead th {\n",
       "        text-align: right;\n",
       "    }\n",
       "</style>\n",
       "<table border=\"1\" class=\"dataframe\">\n",
       "  <thead>\n",
       "    <tr style=\"text-align: right;\">\n",
       "      <th></th>\n",
       "      <th>EmailAddress</th>\n",
       "      <th>ListID</th>\n",
       "      <th>Date</th>\n",
       "      <th>IPAddress</th>\n",
       "      <th>Latitude</th>\n",
       "      <th>Longitude</th>\n",
       "      <th>City</th>\n",
       "      <th>Region</th>\n",
       "      <th>CountryCode</th>\n",
       "      <th>CountryName</th>\n",
       "    </tr>\n",
       "  </thead>\n",
       "  <tbody>\n",
       "    <tr>\n",
       "      <th>0</th>\n",
       "      <td>ashish.kulkarni@live.com</td>\n",
       "      <td>804cca72b4cda6c7e2ca8acb24ce84c2</td>\n",
       "      <td>2020-12-10 11:53:00</td>\n",
       "      <td>18.134.164.183</td>\n",
       "      <td>51.516403</td>\n",
       "      <td>-0.093002</td>\n",
       "      <td>London</td>\n",
       "      <td>London, City of</td>\n",
       "      <td>GB</td>\n",
       "      <td>United Kingdom</td>\n",
       "    </tr>\n",
       "    <tr>\n",
       "      <th>1</th>\n",
       "      <td>ashish.kulkarni@live.com</td>\n",
       "      <td>804cca72b4cda6c7e2ca8acb24ce84c2</td>\n",
       "      <td>2020-12-10 11:53:00</td>\n",
       "      <td>18.134.164.183</td>\n",
       "      <td>51.516403</td>\n",
       "      <td>-0.093002</td>\n",
       "      <td>London</td>\n",
       "      <td>London, City of</td>\n",
       "      <td>GB</td>\n",
       "      <td>United Kingdom</td>\n",
       "    </tr>\n",
       "  </tbody>\n",
       "</table>\n",
       "</div>"
      ],
      "text/plain": [
       "               EmailAddress                            ListID  \\\n",
       "0  ashish.kulkarni@live.com  804cca72b4cda6c7e2ca8acb24ce84c2   \n",
       "1  ashish.kulkarni@live.com  804cca72b4cda6c7e2ca8acb24ce84c2   \n",
       "\n",
       "                  Date       IPAddress   Latitude  Longitude    City  \\\n",
       "0  2020-12-10 11:53:00  18.134.164.183  51.516403  -0.093002  London   \n",
       "1  2020-12-10 11:53:00  18.134.164.183  51.516403  -0.093002  London   \n",
       "\n",
       "            Region CountryCode     CountryName  \n",
       "0  London, City of          GB  United Kingdom  \n",
       "1  London, City of          GB  United Kingdom  "
      ]
     },
     "execution_count": 4,
     "metadata": {},
     "output_type": "execute_result"
    }
   ],
   "source": [
    "import pandas as pd\n",
    "response = {'Results': [{'EmailAddress': 'ashish.kulkarni@live.com', 'ListID': '804cca72b4cda6c7e2ca8acb24ce84c2', 'Date': '2020-12-10 11:53:00', 'IPAddress': '18.134.164.183', 'Latitude': 51.516403, 'Longitude': -0.093002, 'City': 'London', 'Region': 'London, City of', 'CountryCode': 'GB', 'CountryName': 'United Kingdom'}, {'EmailAddress': 'ashish.kulkarni@live.com', 'ListID': '804cca72b4cda6c7e2ca8acb24ce84c2', 'Date': '2020-12-10 11:53:00', 'IPAddress': '18.134.164.183', 'Latitude': 51.516403, 'Longitude': -0.093002, 'City': 'London', 'Region': 'London, City of', 'CountryCode': 'GB', 'CountryName': 'United Kingdom'}], 'ResultsOrderedBy': 'email', 'OrderDirection': 'asc', 'PageNumber': 1, 'PageSize': 1000, 'RecordsOnThisPage': 2, 'TotalNumberOfRecords': 2, 'NumberOfPages': 1}\n",
    "#print(response[\"Results\"])\n",
    "\n",
    "response_dataframe = pd.DataFrame.from_dict(response[\"Results\"])\n",
    "response_dataframe.head()"
   ]
  },
  {
   "cell_type": "markdown",
   "metadata": {},
   "source": [
    "### Load yml Config file"
   ]
  },
  {
   "cell_type": "code",
   "execution_count": 8,
   "metadata": {},
   "outputs": [],
   "source": [
    "import yaml as yml\n",
    "with open(r'dbconfig.yaml') as file:\n",
    "    config = yml.full_load(file)\n",
    "#print(config)"
   ]
  },
  {
   "cell_type": "markdown",
   "metadata": {},
   "source": [
    "### Establish the connection"
   ]
  },
  {
   "cell_type": "code",
   "execution_count": 9,
   "metadata": {},
   "outputs": [],
   "source": [
    "conn = cnn.connect('DRIVER='+config['instances']['driver']+\n",
    "                   ';SERVER='+config['instances']['servername']+\n",
    "                   ';DATABASE='+config['instances']['database']+\n",
    "                   ';UID='+config['instances']['username']+\n",
    "                   ';PWD='+config['instances']['password'])\n",
    "\n",
    "conn.autocommit = False"
   ]
  },
  {
   "cell_type": "markdown",
   "metadata": {},
   "source": [
    "### Check the Connection and Defult Database"
   ]
  },
  {
   "cell_type": "code",
   "execution_count": 15,
   "metadata": {},
   "outputs": [
    {
     "name": "stdout",
     "output_type": "stream",
     "text": [
      "ccnsw_campaign\n"
     ]
    }
   ],
   "source": [
    "#### Checking the connection ####\n",
    "cursor = conn.cursor()\n",
    "\n",
    "# Check DB name of currently connected Server\n",
    "# If Error - Invalid object name\n",
    "cursor.execute(\"SELECT DB_NAME()\") \n",
    "row = cursor.fetchone() \n",
    "while row: \n",
    "    print(row[0])\n",
    "    row = cursor.fetchone()"
   ]
  },
  {
   "cell_type": "markdown",
   "metadata": {},
   "source": [
    "### Check the Connection and Default Schema"
   ]
  },
  {
   "cell_type": "code",
   "execution_count": 10,
   "metadata": {},
   "outputs": [
    {
     "name": "stdout",
     "output_type": "stream",
     "text": [
      "dbo\n"
     ]
    }
   ],
   "source": [
    "#### Checking the connection ####\n",
    "cursor = conn.cursor()\n",
    "\n",
    "# Check the schema name of default Database\n",
    "cursor.execute(\"SELECT SCHEMA_NAME()\") \n",
    "row = cursor.fetchone() \n",
    "while row: \n",
    "    print(row[0])\n",
    "    row = cursor.fetchone()"
   ]
  },
  {
   "cell_type": "markdown",
   "metadata": {},
   "source": [
    "### Check the dataframe is empty"
   ]
  },
  {
   "cell_type": "code",
   "execution_count": 11,
   "metadata": {},
   "outputs": [
    {
     "name": "stdout",
     "output_type": "stream",
     "text": [
      "Is the DataFrame empty : True\n"
     ]
    }
   ],
   "source": [
    "df = pd.DataFrame()\n",
    "\n",
    "isempty = df.empty\n",
    "print('Is the DataFrame empty :', isempty)"
   ]
  },
  {
   "cell_type": "markdown",
   "metadata": {},
   "source": [
    "### Get Date of next n days from given Date in String"
   ]
  },
  {
   "cell_type": "code",
   "execution_count": 3,
   "metadata": {},
   "outputs": [
    {
     "data": {
      "text/plain": [
       "datetime.datetime(2021, 2, 26, 0, 0)"
      ]
     },
     "execution_count": 3,
     "metadata": {},
     "output_type": "execute_result"
    }
   ],
   "source": [
    "def get_next_nth_date(Begindatestring, n): \n",
    "    # taking input as the date   \n",
    "    # carry out conversion between string to datetime object to be able to add days\n",
    "    Begindate = datetime.strptime(Begindatestring, \"%Y-%m-%d\") \n",
    "\n",
    "    Enddate = Begindate + timedelta(days=n) \n",
    "    return (Enddate)\n",
    "\n",
    "next_n_date = get_next_nth_date(\"2021-02-16\", 10)\n",
    "next_n_date"
   ]
  },
  {
   "cell_type": "markdown",
   "metadata": {},
   "source": [
    "### Convert Date string to Datetime object"
   ]
  },
  {
   "cell_type": "code",
   "execution_count": 17,
   "metadata": {},
   "outputs": [
    {
     "data": {
      "text/plain": [
       "datetime.datetime(2021, 2, 16, 13, 15)"
      ]
     },
     "execution_count": 17,
     "metadata": {},
     "output_type": "execute_result"
    }
   ],
   "source": [
    "datetime_object = datetime.strptime('2021-02-16 13:15:00', '%Y-%m-%d %H:%M:%S')\n",
    "datetime_object"
   ]
  },
  {
   "cell_type": "code",
   "execution_count": 3,
   "metadata": {},
   "outputs": [
    {
     "data": {
      "text/plain": [
       "datetime.datetime(2021, 7, 23, 12, 49, 30, 876742)"
      ]
     },
     "execution_count": 3,
     "metadata": {},
     "output_type": "execute_result"
    }
   ],
   "source": [
    "datetime.now()"
   ]
  },
  {
   "cell_type": "code",
   "execution_count": 4,
   "metadata": {},
   "outputs": [
    {
     "data": {
      "text/plain": [
       "datetime.datetime(2021, 7, 23, 12, 49, 44, 664508)"
      ]
     },
     "execution_count": 4,
     "metadata": {},
     "output_type": "execute_result"
    }
   ],
   "source": [
    "datetime.now()"
   ]
  },
  {
   "cell_type": "code",
   "execution_count": 2,
   "metadata": {},
   "outputs": [
    {
     "ename": "TypeError",
     "evalue": "object of type 'int' has no len()",
     "output_type": "error",
     "traceback": [
      "\u001b[1;31m---------------------------------------------------------------------------\u001b[0m",
      "\u001b[1;31mTypeError\u001b[0m                                 Traceback (most recent call last)",
      "\u001b[1;32m<ipython-input-2-0679e58639fe>\u001b[0m in \u001b[0;36m<module>\u001b[1;34m\u001b[0m\n\u001b[1;32m----> 1\u001b[1;33m \u001b[1;32mfor\u001b[0m \u001b[0mi\u001b[0m \u001b[1;32min\u001b[0m \u001b[0mrange\u001b[0m\u001b[1;33m(\u001b[0m\u001b[0mlen\u001b[0m\u001b[1;33m(\u001b[0m\u001b[1;36m5\u001b[0m\u001b[1;33m)\u001b[0m\u001b[1;33m)\u001b[0m \u001b[1;33m:\u001b[0m\u001b[1;33m\u001b[0m\u001b[1;33m\u001b[0m\u001b[0m\n\u001b[0m\u001b[0;32m      2\u001b[0m     \u001b[0mcampaign\u001b[0m \u001b[1;33m=\u001b[0m \u001b[0mcampaigns_on_active_period\u001b[0m\u001b[1;33m.\u001b[0m\u001b[0mloc\u001b[0m\u001b[1;33m[\u001b[0m\u001b[0mi\u001b[0m\u001b[1;33m,\u001b[0m \u001b[1;34m'SentDate'\u001b[0m\u001b[1;33m]\u001b[0m\u001b[1;33m\u001b[0m\u001b[1;33m\u001b[0m\u001b[0m\n",
      "\u001b[1;31mTypeError\u001b[0m: object of type 'int' has no len()"
     ]
    }
   ],
   "source": [
    "for i in range(len(5)) : \n",
    "    campaign = campaigns_on_active_period.loc[i, 'SentDate']"
   ]
  },
  {
   "cell_type": "code",
   "execution_count": 2,
   "metadata": {},
   "outputs": [
    {
     "name": "stdout",
     "output_type": "stream",
     "text": [
      "0\n",
      "1\n",
      "2\n",
      "3\n",
      "4\n"
     ]
    }
   ],
   "source": [
    "for x in range(5):\n",
    "        print(x)\n",
    "        "
   ]
  },
  {
   "cell_type": "code",
   "execution_count": null,
   "metadata": {},
   "outputs": [],
   "source": [
    "##### Isolated Code for Degugging Purpose ######\n",
    "campaign_email_action_list = [\"opens\", \"clicks\", \"unsubscribes\", \"bounces\", \"spam\"]\n",
    "\n",
    "final_campaign_action_data = {\"opens\": {\"data\": pd.DataFrame(), \"destination_table_name\": \"campaign_email_opens\"},\n",
    "                              \"clicks\":{\"data\": pd.DataFrame(), \"destination_table_name\": \"campaign_email_clicks\"},\n",
    "                              \"unsubscribes\": {\"data\": pd.DataFrame(), \"destination_table_name\": \"campaign_email_unsubscribes\"},\n",
    "                              \"bounces\": {\"data\": pd.DataFrame(), \"destination_table_name\": \"campaign_email_bounces\"},\n",
    "                              \"spam\": {\"data\": pd.DataFrame(), \"destination_table_name\": \"campaign_email_spam\"} }\n",
    "\n",
    "for action in campaign_email_action_list:\n",
    "        table_name = final_campaign_action_data[action][\"destination_table_name\"]\n",
    "        campaign_data = final_campaign_action_data[action][\"data\"]\n",
    "        print(table_name)\n",
    "        print(campaign_data)"
   ]
  },
  {
   "cell_type": "code",
   "execution_count": 1,
   "metadata": {},
   "outputs": [
    {
     "name": "stdout",
     "output_type": "stream",
     "text": [
      "2021-07-23\n",
      "2021-07-21\n"
     ]
    },
    {
     "data": {
      "text/plain": [
       "True"
      ]
     },
     "execution_count": 1,
     "metadata": {},
     "output_type": "execute_result"
    }
   ],
   "source": [
    "from datetime import datetime, timedelta\n",
    "past7days = (datetime.today() - timedelta(days=7))\n",
    "past7days.date()\n",
    "\n",
    "\n",
    "message_date_fmt = datetime.strptime('1970-01-01 00:00:00', \"%Y-%m-%d %H:%M:%S\")\n",
    "# print(message_date_fmt.date())\n",
    "\n",
    "\n",
    "datetime.today().date() > past7days.date()\n",
    "\n",
    "\n",
    "message_date = datetime.today().strftime('%Y-%m-%d %H:%M:%S')\n",
    "past2days = (datetime.today() - timedelta(days=2))\n",
    "message_date = datetime.strptime(message_date, \"%Y-%m-%d %H:%M:%S\")\n",
    "\n",
    "print(message_date.date())\n",
    "print(past2days.date())\n",
    "\n",
    "message_date.date() > past2days.date()"
   ]
  }
 ],
 "metadata": {
  "kernelspec": {
   "display_name": "Python 3",
   "language": "python",
   "name": "python3"
  },
  "language_info": {
   "codemirror_mode": {
    "name": "ipython",
    "version": 3
   },
   "file_extension": ".py",
   "mimetype": "text/x-python",
   "name": "python",
   "nbconvert_exporter": "python",
   "pygments_lexer": "ipython3",
   "version": "3.8.5"
  }
 },
 "nbformat": 4,
 "nbformat_minor": 2
}
